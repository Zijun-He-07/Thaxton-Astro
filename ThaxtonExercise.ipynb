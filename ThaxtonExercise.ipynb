{
 "cells": [
  {
   "cell_type": "code",
   "execution_count": 9,
   "metadata": {},
   "outputs": [
    {
     "name": "stdout",
     "output_type": "stream",
     "text": [
      "3\n"
     ]
    },
    {
     "data": {
      "text/plain": [
       "int"
      ]
     },
     "execution_count": 9,
     "metadata": {},
     "output_type": "execute_result"
    }
   ],
   "source": [
    "number:int = 3\n",
    "print(number)\n",
    "type(number)"
   ]
  },
  {
   "cell_type": "code",
   "execution_count": 10,
   "metadata": {},
   "outputs": [
    {
     "name": "stdout",
     "output_type": "stream",
     "text": [
      "Hello World\n"
     ]
    },
    {
     "data": {
      "text/plain": [
       "str"
      ]
     },
     "execution_count": 10,
     "metadata": {},
     "output_type": "execute_result"
    }
   ],
   "source": [
    "phrase:str = 'Hello World'\n",
    "print(phrase)\n",
    "type(phrase)"
   ]
  },
  {
   "cell_type": "code",
   "execution_count": 11,
   "metadata": {},
   "outputs": [
    {
     "name": "stdout",
     "output_type": "stream",
     "text": [
      "[1, 5, 3, 5, 7, 4, 56, 7, 453, 2456, 586, 2364, 2315, 6]\n"
     ]
    },
    {
     "data": {
      "text/plain": [
       "list"
      ]
     },
     "execution_count": 11,
     "metadata": {},
     "output_type": "execute_result"
    }
   ],
   "source": [
    "list1 = [1,5,3,5,7,4,56,7,453,2456,586,2364,2315,6]\n",
    "print(list1)\n",
    "type(list1)"
   ]
  },
  {
   "cell_type": "code",
   "execution_count": 32,
   "metadata": {},
   "outputs": [
    {
     "name": "stdout",
     "output_type": "stream",
     "text": [
      "3.141592653589793\n"
     ]
    },
    {
     "data": {
      "text/plain": [
       "float"
      ]
     },
     "execution_count": 32,
     "metadata": {},
     "output_type": "execute_result"
    }
   ],
   "source": [
    "import numpy as np\n",
    "pi = np.pi\n",
    "print(pi)\n",
    "type(pi)"
   ]
  },
  {
   "cell_type": "code",
   "execution_count": 13,
   "metadata": {
    "scrolled": true
   },
   "outputs": [
    {
     "name": "stdout",
     "output_type": "stream",
     "text": [
      "[96, 98, 85, 70, 60, 97, 50, 56, 81, 73, 89, 51, 56, 95, 80, 64, 83, 80, 71, 97, 69, 92, 62, 54, 60, 87]\n",
      "75.23076923076923\n",
      "['A', 'A', 'B', 'C', 'D', 'A', 'F', 'F', 'B', 'C', 'B', 'F', 'F', 'A', 'B', 'D', 'B', 'B', 'C', 'A', 'D', 'A', 'D', 'F', 'D', 'B']\n"
     ]
    }
   ],
   "source": [
    "import random\n",
    "grades = []\n",
    "letter_grades = []\n",
    "students = 26\n",
    "for i in range(students):\n",
    "    grades.append(random.randint(50,100))\n",
    "print(grades)\n",
    "avg = sum(grades)/len(grades)\n",
    "print(avg)\n",
    "for i in range(len(grades)):\n",
    "    if grades[i]>=90:\n",
    "        letter_grades.append('A')\n",
    "    elif 90>grades[i]>=80:\n",
    "        letter_grades.append('B')\n",
    "    elif 80>grades[i]>=70:\n",
    "        letter_grades.append('C')\n",
    "    elif 70>grades[i]>=60:\n",
    "        letter_grades.append('D')\n",
    "    else:\n",
    "        letter_grades.append('F')\n",
    "print(letter_grades)\n"
   ]
  },
  {
   "cell_type": "code",
   "execution_count": 16,
   "metadata": {},
   "outputs": [
    {
     "name": "stdout",
     "output_type": "stream",
     "text": [
      "Out of  16  flips,  5  are heads  and  11  are tails\n"
     ]
    }
   ],
   "source": [
    "import random\n",
    "heads = 0\n",
    "tails = 0\n",
    "flips = 16\n",
    "for i in range(flips):\n",
    "    coin_flip = random.randint(1,2)\n",
    "    if coin_flip == 1:\n",
    "        heads += 1\n",
    "    else:\n",
    "        tails += 1\n",
    "print('Out of ', flips, ' flips, ', heads, ' are heads', ' and ', tails, ' are tails')"
   ]
  },
  {
   "cell_type": "code",
   "execution_count": 41,
   "metadata": {
    "scrolled": true
   },
   "outputs": [
    {
     "data": {
      "text/html": [
       "<div>\n",
       "<style scoped>\n",
       "    .dataframe tbody tr th:only-of-type {\n",
       "        vertical-align: middle;\n",
       "    }\n",
       "\n",
       "    .dataframe tbody tr th {\n",
       "        vertical-align: top;\n",
       "    }\n",
       "\n",
       "    .dataframe thead th {\n",
       "        text-align: right;\n",
       "    }\n",
       "</style>\n",
       "<table border=\"1\" class=\"dataframe\">\n",
       "  <thead>\n",
       "    <tr style=\"text-align: right;\">\n",
       "      <th></th>\n",
       "      <th>filename</th>\n",
       "      <th>object</th>\n",
       "      <th>qobject</th>\n",
       "      <th>qra</th>\n",
       "      <th>qdec</th>\n",
       "      <th>obsdate</th>\n",
       "      <th>exptime</th>\n",
       "      <th>obsmode</th>\n",
       "      <th>obstype</th>\n",
       "      <th>program</th>\n",
       "      <th>...</th>\n",
       "      <th>sunagl</th>\n",
       "      <th>airmass</th>\n",
       "      <th>seeing</th>\n",
       "      <th>moonagl</th>\n",
       "      <th>ccfjdsum</th>\n",
       "      <th>ccfrvmod</th>\n",
       "      <th>dvrms</th>\n",
       "      <th>swversion</th>\n",
       "      <th>extsnr</th>\n",
       "      <th>flaggedval</th>\n",
       "    </tr>\n",
       "  </thead>\n",
       "  <tbody>\n",
       "    <tr>\n",
       "      <th>0</th>\n",
       "      <td>neidL2_20240517T043020.fits</td>\n",
       "      <td>TIC 441763252</td>\n",
       "      <td>Gaia DR2 1651960184296418944</td>\n",
       "      <td>17:22:18.0055</td>\n",
       "      <td>+72:38:43.342</td>\n",
       "      <td>2024-05-17 04:30:20</td>\n",
       "      <td>3299.825359</td>\n",
       "      <td>he</td>\n",
       "      <td>Sci</td>\n",
       "      <td>2024A-754589</td>\n",
       "      <td>...</td>\n",
       "      <td>-24.0770</td>\n",
       "      <td>1.6756</td>\n",
       "      <td>0.0</td>\n",
       "      <td>93.6279</td>\n",
       "      <td>2.460448e+06</td>\n",
       "      <td>-18.7598</td>\n",
       "      <td>0.0683</td>\n",
       "      <td>v1.3.0</td>\n",
       "      <td>11.1498</td>\n",
       "      <td>NaN</td>\n",
       "    </tr>\n",
       "    <tr>\n",
       "      <th>1</th>\n",
       "      <td>neidL2_20240411T103612.fits</td>\n",
       "      <td>TIC 441763252</td>\n",
       "      <td>Gaia DR2 1651960184296418944</td>\n",
       "      <td>17:22:18.0055</td>\n",
       "      <td>+72:38:43.342</td>\n",
       "      <td>2024-04-11 10:36:12</td>\n",
       "      <td>3299.822945</td>\n",
       "      <td>he</td>\n",
       "      <td>Sci</td>\n",
       "      <td>2024A-754589</td>\n",
       "      <td>...</td>\n",
       "      <td>-29.3961</td>\n",
       "      <td>1.3281</td>\n",
       "      <td>0.0</td>\n",
       "      <td>89.6943</td>\n",
       "      <td>2.460412e+06</td>\n",
       "      <td>-18.7584</td>\n",
       "      <td>0.0859</td>\n",
       "      <td>v1.3.0</td>\n",
       "      <td>13.5742</td>\n",
       "      <td>NaN</td>\n",
       "    </tr>\n",
       "    <tr>\n",
       "      <th>2</th>\n",
       "      <td>neidL2_20240201T100953.fits</td>\n",
       "      <td>TIC 441763252</td>\n",
       "      <td>Gaia DR2 1651960184296418944</td>\n",
       "      <td>17:22:18.0055</td>\n",
       "      <td>+72:38:43.342</td>\n",
       "      <td>2024-02-01 10:09:53</td>\n",
       "      <td>3299.817545</td>\n",
       "      <td>he</td>\n",
       "      <td>Sci</td>\n",
       "      <td>2023B-657754</td>\n",
       "      <td>...</td>\n",
       "      <td>-53.0748</td>\n",
       "      <td>1.9462</td>\n",
       "      <td>0.0</td>\n",
       "      <td>83.4431</td>\n",
       "      <td>2.460342e+06</td>\n",
       "      <td>-18.7299</td>\n",
       "      <td>0.0955</td>\n",
       "      <td>v1.3.0</td>\n",
       "      <td>11.0570</td>\n",
       "      <td>NaN</td>\n",
       "    </tr>\n",
       "    <tr>\n",
       "      <th>3</th>\n",
       "      <td>neidL2_20240119T113407.fits</td>\n",
       "      <td>TIC 441763252</td>\n",
       "      <td>Gaia DR2 1651960184296418944</td>\n",
       "      <td>17:22:18.0055</td>\n",
       "      <td>+72:38:43.342</td>\n",
       "      <td>2024-01-19 11:34:07</td>\n",
       "      <td>3299.811149</td>\n",
       "      <td>he</td>\n",
       "      <td>Sci</td>\n",
       "      <td>2023B-657754</td>\n",
       "      <td>...</td>\n",
       "      <td>-36.1949</td>\n",
       "      <td>1.8178</td>\n",
       "      <td>0.0</td>\n",
       "      <td>83.1113</td>\n",
       "      <td>2.460329e+06</td>\n",
       "      <td>-18.7624</td>\n",
       "      <td>0.0738</td>\n",
       "      <td>v1.3.0</td>\n",
       "      <td>10.5420</td>\n",
       "      <td>NaN</td>\n",
       "    </tr>\n",
       "    <tr>\n",
       "      <th>4</th>\n",
       "      <td>neidL2_20240118T112324.fits</td>\n",
       "      <td>TIC 441763252</td>\n",
       "      <td>Gaia DR2 1651960184296418944</td>\n",
       "      <td>17:22:18.0055</td>\n",
       "      <td>+72:38:43.342</td>\n",
       "      <td>2024-01-18 11:23:24</td>\n",
       "      <td>3299.801287</td>\n",
       "      <td>he</td>\n",
       "      <td>Sci</td>\n",
       "      <td>2023B-657754</td>\n",
       "      <td>...</td>\n",
       "      <td>-38.4851</td>\n",
       "      <td>1.8722</td>\n",
       "      <td>0.0</td>\n",
       "      <td>83.1040</td>\n",
       "      <td>2.460328e+06</td>\n",
       "      <td>-18.7223</td>\n",
       "      <td>0.0939</td>\n",
       "      <td>v1.3.0</td>\n",
       "      <td>16.5687</td>\n",
       "      <td>NaN</td>\n",
       "    </tr>\n",
       "    <tr>\n",
       "      <th>5</th>\n",
       "      <td>neidL2_20231022T014223.fits</td>\n",
       "      <td>TIC 441763252</td>\n",
       "      <td>Gaia DR2 1651960184296418944</td>\n",
       "      <td>17:22:18.0055</td>\n",
       "      <td>+72:38:43.342</td>\n",
       "      <td>2023-10-22 01:42:23</td>\n",
       "      <td>3299.840435</td>\n",
       "      <td>he</td>\n",
       "      <td>Sci</td>\n",
       "      <td>2023B-657754</td>\n",
       "      <td>...</td>\n",
       "      <td>-12.3578</td>\n",
       "      <td>1.4517</td>\n",
       "      <td>0.0</td>\n",
       "      <td>89.5183</td>\n",
       "      <td>2.460240e+06</td>\n",
       "      <td>-18.7610</td>\n",
       "      <td>0.0640</td>\n",
       "      <td>v1.3.0</td>\n",
       "      <td>12.6778</td>\n",
       "      <td>NaN</td>\n",
       "    </tr>\n",
       "    <tr>\n",
       "      <th>6</th>\n",
       "      <td>neidL2_20231019T032919.fits</td>\n",
       "      <td>TIC 441763252</td>\n",
       "      <td>Gaia DR2 1651960184296418944</td>\n",
       "      <td>17:22:18.0055</td>\n",
       "      <td>+72:38:43.342</td>\n",
       "      <td>2023-10-19 03:29:19</td>\n",
       "      <td>3263.704639</td>\n",
       "      <td>he</td>\n",
       "      <td>Sci</td>\n",
       "      <td>2023B-657754</td>\n",
       "      <td>...</td>\n",
       "      <td>-34.3085</td>\n",
       "      <td>1.6592</td>\n",
       "      <td>0.0</td>\n",
       "      <td>89.8595</td>\n",
       "      <td>2.460237e+06</td>\n",
       "      <td>-18.7308</td>\n",
       "      <td>0.0901</td>\n",
       "      <td>v1.3.0</td>\n",
       "      <td>11.3151</td>\n",
       "      <td>NaN</td>\n",
       "    </tr>\n",
       "    <tr>\n",
       "      <th>7</th>\n",
       "      <td>neidL2_20230907T035455.fits</td>\n",
       "      <td>TIC 441763252</td>\n",
       "      <td>Gaia DR2 1651960184296418944</td>\n",
       "      <td>17:22:18.0055</td>\n",
       "      <td>+72:38:43.342</td>\n",
       "      <td>2023-09-07 03:54:55</td>\n",
       "      <td>3299.830004</td>\n",
       "      <td>he</td>\n",
       "      <td>Sci</td>\n",
       "      <td>2023B-657754</td>\n",
       "      <td>...</td>\n",
       "      <td>-27.2194</td>\n",
       "      <td>1.3906</td>\n",
       "      <td>0.0</td>\n",
       "      <td>94.4263</td>\n",
       "      <td>2.460195e+06</td>\n",
       "      <td>-18.6603</td>\n",
       "      <td>0.0964</td>\n",
       "      <td>v1.3.0</td>\n",
       "      <td>14.6639</td>\n",
       "      <td>NaN</td>\n",
       "    </tr>\n",
       "  </tbody>\n",
       "</table>\n",
       "<p>8 rows × 21 columns</p>\n",
       "</div>"
      ],
      "text/plain": [
       "                      filename         object                       qobject  \\\n",
       "0  neidL2_20240517T043020.fits  TIC 441763252  Gaia DR2 1651960184296418944   \n",
       "1  neidL2_20240411T103612.fits  TIC 441763252  Gaia DR2 1651960184296418944   \n",
       "2  neidL2_20240201T100953.fits  TIC 441763252  Gaia DR2 1651960184296418944   \n",
       "3  neidL2_20240119T113407.fits  TIC 441763252  Gaia DR2 1651960184296418944   \n",
       "4  neidL2_20240118T112324.fits  TIC 441763252  Gaia DR2 1651960184296418944   \n",
       "5  neidL2_20231022T014223.fits  TIC 441763252  Gaia DR2 1651960184296418944   \n",
       "6  neidL2_20231019T032919.fits  TIC 441763252  Gaia DR2 1651960184296418944   \n",
       "7  neidL2_20230907T035455.fits  TIC 441763252  Gaia DR2 1651960184296418944   \n",
       "\n",
       "             qra           qdec              obsdate      exptime obsmode  \\\n",
       "0  17:22:18.0055  +72:38:43.342  2024-05-17 04:30:20  3299.825359      he   \n",
       "1  17:22:18.0055  +72:38:43.342  2024-04-11 10:36:12  3299.822945      he   \n",
       "2  17:22:18.0055  +72:38:43.342  2024-02-01 10:09:53  3299.817545      he   \n",
       "3  17:22:18.0055  +72:38:43.342  2024-01-19 11:34:07  3299.811149      he   \n",
       "4  17:22:18.0055  +72:38:43.342  2024-01-18 11:23:24  3299.801287      he   \n",
       "5  17:22:18.0055  +72:38:43.342  2023-10-22 01:42:23  3299.840435      he   \n",
       "6  17:22:18.0055  +72:38:43.342  2023-10-19 03:29:19  3263.704639      he   \n",
       "7  17:22:18.0055  +72:38:43.342  2023-09-07 03:54:55  3299.830004      he   \n",
       "\n",
       "  obstype       program  ...   sunagl  airmass  seeing  moonagl      ccfjdsum  \\\n",
       "0     Sci  2024A-754589  ... -24.0770   1.6756     0.0  93.6279  2.460448e+06   \n",
       "1     Sci  2024A-754589  ... -29.3961   1.3281     0.0  89.6943  2.460412e+06   \n",
       "2     Sci  2023B-657754  ... -53.0748   1.9462     0.0  83.4431  2.460342e+06   \n",
       "3     Sci  2023B-657754  ... -36.1949   1.8178     0.0  83.1113  2.460329e+06   \n",
       "4     Sci  2023B-657754  ... -38.4851   1.8722     0.0  83.1040  2.460328e+06   \n",
       "5     Sci  2023B-657754  ... -12.3578   1.4517     0.0  89.5183  2.460240e+06   \n",
       "6     Sci  2023B-657754  ... -34.3085   1.6592     0.0  89.8595  2.460237e+06   \n",
       "7     Sci  2023B-657754  ... -27.2194   1.3906     0.0  94.4263  2.460195e+06   \n",
       "\n",
       "   ccfrvmod   dvrms  swversion   extsnr  flaggedval  \n",
       "0  -18.7598  0.0683     v1.3.0  11.1498         NaN  \n",
       "1  -18.7584  0.0859     v1.3.0  13.5742         NaN  \n",
       "2  -18.7299  0.0955     v1.3.0  11.0570         NaN  \n",
       "3  -18.7624  0.0738     v1.3.0  10.5420         NaN  \n",
       "4  -18.7223  0.0939     v1.3.0  16.5687         NaN  \n",
       "5  -18.7610  0.0640     v1.3.0  12.6778         NaN  \n",
       "6  -18.7308  0.0901     v1.3.0  11.3151         NaN  \n",
       "7  -18.6603  0.0964     v1.3.0  14.6639         NaN  \n",
       "\n",
       "[8 rows x 21 columns]"
      ]
     },
     "execution_count": 41,
     "metadata": {},
     "output_type": "execute_result"
    }
   ],
   "source": [
    "# Pandas Reading\n",
    "import pandas as pd\n",
    "pandas.__version__\n",
    "RV = pd.read_csv(\"NEID_RVS_PRELIM (2).csv\")\n",
    "RV"
   ]
  },
  {
   "cell_type": "code",
   "execution_count": 17,
   "metadata": {
    "scrolled": true
   },
   "outputs": [
    {
     "data": {
      "text/plain": [
       "[<matplotlib.lines.Line2D at 0x122779430>]"
      ]
     },
     "execution_count": 17,
     "metadata": {},
     "output_type": "execute_result"
    },
    {
     "data": {
      "image/png": "[encoded data removed]",
      "text/plain": [
       "<Figure size 432x288 with 1 Axes>"
      ]
     },
     "metadata": {
      "needs_background": "light"
     },
     "output_type": "display_data"
    }
   ],
   "source": [
    "import matplotlib\n",
    "from matplotlib import pyplot as plt\n",
    "import numpy as np\n",
    "x = np.linspace(-np.pi*2, np.pi*2, 1000)\n",
    "y = np.sin(x)\n",
    "plt.plot(x,y,label='y=sin(x)',color='blue')\n"
   ]
  },
  {
   "cell_type": "code",
   "execution_count": 19,
   "metadata": {},
   "outputs": [
    {
     "data": {
      "text/plain": [
       "<matplotlib.collections.PathCollection at 0x1226abc10>"
      ]
     },
     "execution_count": 19,
     "metadata": {},
     "output_type": "execute_result"
    },
    {
     "data": {
      "image/png": "[encoded data removed]",
      "text/plain": [
       "<Figure size 432x288 with 1 Axes>"
      ]
     },
     "metadata": {
      "needs_background": "light"
     },
     "output_type": "display_data"
    }
   ],
   "source": [
    "# Library Initialization\n",
    "import matplotlib\n",
    "from matplotlib import pyplot as plt\n",
    "import random\n",
    "\n",
    "# Randomizer\n",
    "randomtimes = random.randint(10,40)\n",
    "x=[]\n",
    "y=[]\n",
    "for i in range(randomtimes):\n",
    "    x.append(random.randint(0,10))\n",
    "    y.append(random.randint(0,10))\n",
    "\n",
    "# Scattering\n",
    "plt.scatter(x,y)    "
   ]
  },
  {
   "cell_type": "code",
   "execution_count": 20,
   "metadata": {},
   "outputs": [
    {
     "name": "stdout",
     "output_type": "stream",
     "text": [
      "[6, 2, 6, 1, 0, 9, 10, 2, 1, 2, 9, 8, 1, 6, 0, 6, 6, 5, 8, 3, 6, 5, 5, 8, 3]\n",
      "[10, 10, 2, 8, 8, 7, 3, 2, 9, 6, 6, 9, 10, 0, 3, 6, 1, 1, 9, 10, 8, 7, 0, 5, 7]\n"
     ]
    },
    {
     "data": {
      "text/plain": [
       "<matplotlib.collections.PathCollection at 0x1227d5340>"
      ]
     },
     "execution_count": 20,
     "metadata": {},
     "output_type": "execute_result"
    },
    {
     "data": {
      "image/png": "[encoded data removed]",
      "text/plain": [
       "<Figure size 432x288 with 1 Axes>"
      ]
     },
     "metadata": {
      "needs_background": "light"
     },
     "output_type": "display_data"
    }
   ],
   "source": [
    "# Library Initialization\n",
    "import matplotlib\n",
    "from matplotlib import pyplot as plt\n",
    "import random\n",
    "import numpy as np\n",
    "\n",
    "# Random Aspect\n",
    "randomtimes = random.randint(10,40)\n",
    "x3=[]\n",
    "y3=[]\n",
    "\n",
    "# Randomizer\n",
    "for i in range(randomtimes):\n",
    "    x3.append(random.randint(0,10))\n",
    "    y3.append(random.randint(0,10))\n",
    "print(x3)\n",
    "print(y3)\n",
    "\n",
    "# Sine and Cosine Functions \n",
    "x = np.linspace(-np.pi*2, np.pi*2, 1000)\n",
    "y1 = np.sin(x)\n",
    "y2 = np.cos(x)\n",
    "\n",
    "# Plotting\n",
    "plt.plot(x, y1)\n",
    "plt.plot(x,y2)\n",
    "plt.scatter(x3,y3)"
   ]
  },
  {
   "cell_type": "code",
   "execution_count": 29,
   "metadata": {},
   "outputs": [
    {
     "name": "stdout",
     "output_type": "stream",
     "text": [
      "Enter your Amplitude: 1\n",
      "Enter your Frequency: 1\n",
      "Enter your Phase Shift: 0\n",
      "Enter your vertical (y) shift: 0\n"
     ]
    },
    {
     "data": {
      "text/plain": [
       "Text(0.5, 1.0, 'Sin Wave')"
      ]
     },
     "execution_count": 29,
     "metadata": {},
     "output_type": "execute_result"
    },
    {
     "data": {
      "image/png": "[encoded data removed]",
      "text/plain": [
       "<Figure size 432x288 with 1 Axes>"
      ]
     },
     "metadata": {
      "needs_background": "light"
     },
     "output_type": "display_data"
    }
   ],
   "source": [
    "# Library Initialization\n",
    "import matplotlib.pyplot as plt\n",
    "import numpy as np\n",
    "\n",
    "# Generate x-axis length\n",
    "x = np.linspace(-2 * np.pi, 2 * np.pi, 1000)\n",
    "\n",
    "# Get user input and convert to float values\n",
    "amplitude = float(input(\"Enter your Amplitude: \"))\n",
    "frequency = float(input(\"Enter your Frequency: \"))\n",
    "phase = float(input(\"Enter your Phase Shift: \"))\n",
    "displacement = float(input(\"Enter your vertical (y) shift: \"))\n",
    "\n",
    "# Calculation Equation\n",
    "equation = amplitude * np.sin(frequency * x + phase) + displacement\n",
    "\n",
    "# Plotting\n",
    "plt.plot(x, equation, 'b')\n",
    "plt.xlabel('x')\n",
    "plt.ylabel('y')\n",
    "plt.title('Sin Wave')\n"
   ]
  },
  {
   "cell_type": "markdown",
   "metadata": {},
   "source": [
    "#BELOW IS EXPERIMENTATION WITH SIN FITS"
   ]
  },
  {
   "cell_type": "code",
   "execution_count": 24,
   "metadata": {},
   "outputs": [
    {
     "name": "stdout",
     "output_type": "stream",
     "text": [
      "0.6991540066075287\n",
      "0.7787540888408613\n",
      "1.8777738440815654\n",
      "1.105472229272669\n",
      "0.6991540066075287\n",
      "0.7787540888408613\n",
      "1.8777738440815654\n",
      "1.105472229272669\n",
      "0.6991540066075287\n",
      "0.7787540888408613\n",
      "1.8777738440815654\n",
      "1.105472229272669\n",
      "0.6991540066075287\n",
      "0.7787540888408613\n",
      "1.8777738440815654\n",
      "1.105472229272669\n",
      "0.6991540066075287\n",
      "0.7787540888408613\n",
      "1.8777738440815654\n",
      "1.105472229272669\n",
      "0.6991540066075287\n",
      "0.7787540888408613\n",
      "1.8777738440815654\n",
      "1.105472229272669\n",
      "0.6991540066075287\n",
      "0.7787540888408613\n",
      "1.8777738440815654\n",
      "1.105472229272669\n",
      "0.6991540066075287\n",
      "0.7787540888408613\n",
      "1.8777738440815654\n",
      "1.105472229272669\n",
      "0.6991540066075287\n",
      "0.7787540888408613\n",
      "1.8777738440815654\n",
      "1.105472229272669\n",
      "0.6991540066075287\n",
      "0.7787540888408613\n",
      "1.8777738440815654\n",
      "1.105472229272669\n"
     ]
    },
    {
     "data": {
      "image/png": "[encoded data removed]",
      "text/plain": [
       "<Figure size 864x432 with 1 Axes>"
      ]
     },
     "metadata": {
      "needs_background": "light"
     },
     "output_type": "display_data"
    }
   ],
   "source": [
    "import numpy as np\n",
    "import matplotlib.pyplot as plt\n",
    "from scipy.optimize import curve_fit\n",
    "\n",
    "# Define the sine function\n",
    "def sin_function(t, A, B, C, D):\n",
    "    return A * np.sin(B * t + C) + D\n",
    "\n",
    "# Generate synthetic data with more noise\n",
    "np.random.seed(0)\n",
    "t = np.linspace(0, 4 * np.pi, 200)\n",
    "A_true, B_true, C_true, D_true = 2.0, 1.5, 0.5, 1.0\n",
    "y = sin_function(t, A_true, B_true, C_true, D_true) + np.random.normal(0, 0.5, t.size)\n",
    "\n",
    "# Refine initial guess based on domain knowledge\n",
    "\n",
    "# Fit the sine function to the data with bounds\n",
    "for i in range(10):\n",
    "    params, params_covariance = curve_fit(sin_function, t, y)\n",
    "    A_fit, B_fit, C_fit, D_fit = params\n",
    "    print(A_fit)\n",
    "    print(B_fit)\n",
    "    print(C_fit)\n",
    "    print(D_fit)\n",
    "# Generate fitted data\n",
    "y_fit = sin_function(t, A_fit, B_fit, C_fit, D_fit)\n",
    "\n",
    "# Plot original data and fitted curve\n",
    "plt.figure(figsize=(12, 6))\n",
    "plt.scatter(t, y, label='Data', color='red', s=10)\n",
    "plt.plot(t, y_fit, label='Fitted sine curve', color='blue', linewidth=2)\n",
    "plt.xlabel('t')\n",
    "plt.ylabel('y')\n",
    "plt.title('Data Fitting to a Sine Curve')\n",
    "plt.legend()\n",
    "plt.grid(True)"
   ]
  },
  {
   "cell_type": "code",
   "execution_count": null,
   "metadata": {},
   "outputs": [],
   "source": []
  },
  {
   "cell_type": "code",
   "execution_count": null,
   "metadata": {},
   "outputs": [],
   "source": []
  }
 ],
 "metadata": {
  "kernelspec": {
   "display_name": "Python 3 (ipykernel)",
   "language": "python",
   "name": "python3"
  },
  "language_info": {
   "codemirror_mode": {
    "name": "ipython",
    "version": 3
   },
   "file_extension": ".py",
   "mimetype": "text/x-python",
   "name": "python",
   "nbconvert_exporter": "python",
   "pygments_lexer": "ipython3",
   "version": "3.9.10"
  }
 },
 "nbformat": 4,
 "nbformat_minor": 4
}
