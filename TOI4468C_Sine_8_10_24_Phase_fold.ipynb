{
 "cells": [
  {
   "cell_type": "code",
   "execution_count": 13,
   "id": "a16b3f1a",
   "metadata": {
    "tags": []
   },
   "outputs": [],
   "source": [
    "#NEW SINE FITTING(Synthetic), CURVE_FIT WITH A CHI_SQUARE EVALUATOR, updated on Tuesday, at 8:17 PM\n",
    "import numpy as np\n",
    "import matplotlib.pyplot as plt\n",
    "from scipy.optimize import curve_fit"
   ]
  },
  {
   "cell_type": "code",
   "execution_count": 14,
   "id": "ff865f4c-1836-4463-8500-7d0e207fb3cf",
   "metadata": {},
   "outputs": [],
   "source": [
    "# Define the sine function for Synthetic Data\n",
    "def sin_function(t, amp0, freq0, phase0, vert0):\n",
    "    return amp0 * np.sin(freq0 * t + phase0) + vert0\n",
    "\n",
    "def fit_function(t, amp, phase, vert):\n",
    "    return amp * np.sin(2*np.pi * t + phase) + vert"
   ]
  },
  {
   "cell_type": "code",
   "execution_count": 15,
   "id": "967d0e39-f944-4133-9203-b0c432a63dc3",
   "metadata": {},
   "outputs": [],
   "source": [
    "# Pandas Reading\n",
    "import pandas as pd\n",
    "NEID = pd.read_csv(\"NEID_RVS_PRELIM (2).csv\")\n",
    "NEID\n",
    "BM = NEID.iloc[:, 16]\n",
    "avg = np.sum(BM)/8\n",
    "RV = BM-avg \n",
    "RV = RV*1000 #Replaces y\n",
    "BJD = NEID.iloc[:, 15] #BJD(days) Replaces t\n",
    "period_C = 7.01 #days"
   ]
  },
  {
   "cell_type": "code",
   "execution_count": 16,
   "id": "fab895f2-e568-4849-8e63-99d395b0fb7e",
   "metadata": {},
   "outputs": [
    {
     "data": {
      "text/plain": [
       "pandas.core.series.Series"
      ]
     },
     "execution_count": 16,
     "metadata": {},
     "output_type": "execute_result"
    }
   ],
   "source": [
    "#Phase Folding\n",
    "phase_C = (BJD % period_C) / period_C\n",
    "freq_true = 2*np.pi/period_C\n",
    "type(phase_C)\n"
   ]
  },
  {
   "cell_type": "code",
   "execution_count": 17,
   "id": "76aa93aa-6499-4380-a1e4-35d7378dec19",
   "metadata": {},
   "outputs": [
    {
     "name": "stdout",
     "output_type": "stream",
     "text": [
      "Amplitude: 50.27022898035444\n",
      "Phase: 2.8886982611178045\n",
      "Vertical Shift: 7.948889410700288\n"
     ]
    }
   ],
   "source": [
    "# Perform the initial fit\n",
    "params, params_covariance = curve_fit(fit_function, phase_C, RV)\n",
    "amp_fit, phase_fit, vert_fit = params\n",
    "\n",
    "# Generate fitted data\n",
    "freq_fit = freq_true\n",
    "y_fit = sin_function(BJD, amp_fit, freq_fit, phase_fit, vert_fit)\n",
    "print('Amplitude:', abs(amp_fit))\n",
    "print('Phase:', phase_fit % (2*np.pi))\n",
    "print('Vertical Shift:', vert_fit)\n",
    "\n"
   ]
  },
  {
   "cell_type": "code",
   "execution_count": null,
   "id": "a208c06e-6616-4484-a6df-7d11dab22e99",
   "metadata": {},
   "outputs": [],
   "source": []
  },
  {
   "cell_type": "code",
   "execution_count": 18,
   "id": "1638bde6-437d-40cf-b1a4-d8ab9dafdf3b",
   "metadata": {
    "tags": []
   },
   "outputs": [
    {
     "data": {
      "image/png": "[encoded data removed]",
      "text/plain": [
       "<Figure size 2160x432 with 1 Axes>"
      ]
     },
     "metadata": {
      "needs_background": "light"
     },
     "output_type": "display_data"
    }
   ],
   "source": [
    "#Plotting\n",
    "plt.figure(figsize=(30, 6))\n",
    "\n",
    "plt.plot(phase_C, RV, 'o', label='Data', color='red')\n",
    "plt.plot(phase_C, y_fit, '.', markersize = 20, label='Fitted sine curve', color='blue', linewidth=2)\n",
    "\n",
    "t_fit = np.linspace(0, 1, 100)\n",
    "y_line = fit_function(t_fit, amp_fit, phase_fit, vert_fit)\n",
    "plt.plot(t_fit, y_line, label='Fitted sine curve', color='blue', linewidth=.5)\n",
    "\n",
    "plt.legend()\n",
    "plt.show()"
   ]
  },
  {
   "cell_type": "code",
   "execution_count": null,
   "id": "9b0dffc9-c61b-4be7-a5d8-71e964345c39",
   "metadata": {},
   "outputs": [],
   "source": [
    "# Pandas Reading\n",
    "import pandas as pd\n",
    "NEID = pd.read_csv(\"NEID_RVS_PRELIM (2).csv\")\n",
    "NEID\n",
    "BM = NEID.iloc[:, 16]\n",
    "avg = np.sum(BM)/8\n",
    "RV = BM-avg \n",
    "RV = RV*1000 #Replaces y\n",
    "BJD = NEID.iloc[:, 15] #BJD(days) Replaces t\n",
    "period_C = 7.01 #days"
   ]
  },
  {
   "cell_type": "code",
   "execution_count": 9,
   "id": "431e2dcb-eab8-4d11-9701-55f6018e42be",
   "metadata": {},
   "outputs": [
    {
     "name": "stdout",
     "output_type": "stream",
     "text": [
      "0    0.113656\n",
      "1    0.014378\n",
      "2    0.026186\n",
      "3    0.180048\n",
      "4    0.036368\n",
      "5    0.425207\n",
      "6    0.007756\n",
      "7    0.018848\n",
      "Name: ccfjdsum, dtype: float64\n"
     ]
    }
   ],
   "source": [
    "#Phase Folding\n",
    "phase_C = (BJD % period_C) / period_C\n",
    "freq_true = 2*np.pi/period_C\n",
    "print(phase_C)"
   ]
  },
  {
   "cell_type": "code",
   "execution_count": 12,
   "id": "5348b8f5-2ebc-4367-a3fc-79c51d3eb7f9",
   "metadata": {},
   "outputs": [
    {
     "name": "stdout",
     "output_type": "stream",
     "text": [
      "0    0.796731\n",
      "1    0.100790\n",
      "2    0.183562\n",
      "3    1.262137\n",
      "4    0.254943\n",
      "5    2.980704\n",
      "6    0.054369\n",
      "7    0.132128\n",
      "Name: ccfjdsum, dtype: float64\n"
     ]
    }
   ],
   "source": [
    "print(BJD%7.01)"
   ]
  },
  {
   "cell_type": "code",
   "execution_count": null,
   "id": "a8efd0c8-0070-4d53-b697-bcf1e8a5a99b",
   "metadata": {},
   "outputs": [],
   "source": []
  }
 ],
 "metadata": {
  "kernelspec": {
   "display_name": "Python 3 (ipykernel)",
   "language": "python",
   "name": "python3"
  },
  "language_info": {
   "codemirror_mode": {
    "name": "ipython",
    "version": 3
   },
   "file_extension": ".py",
   "mimetype": "text/x-python",
   "name": "python",
   "nbconvert_exporter": "python",
   "pygments_lexer": "ipython3",
   "version": "3.9.10"
  }
 },
 "nbformat": 4,
 "nbformat_minor": 5
}
