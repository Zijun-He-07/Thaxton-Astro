{
 "cells": [
  {
   "cell_type": "markdown",
   "id": "2334726a",
   "metadata": {
    "tags": []
   },
   "source": [
    "# Introduction\n",
    "This code is an MCMC fit for sine curves using the emcee package (https://emcee.readthedocs.io/en/stable/). The likelihood function, priors, and random additions are set up for you already. \n",
    "\n",
    "### You will be changing:\n",
    "\n",
    "1.) The initial values of the algorithm - think about how you can find these analytically based on the data that you have\n",
    "\n",
    "2.) The number of steps the algorithm takes - think about how the number of steps you take affects the quality of your fit\n",
    "\n",
    "3.) The generated error - think about how error changes how percice your fit can be\n",
    "\n",
    "### A few thing to note on the items that are being plotted or printed:\n",
    "\n",
    "1.) Trace: this shows how much your values are moving around during your fit, so how much variation you're getting. The more jagged the plot is, the more variation you get. Note the very jagged part right at the beginning, that's your burn-in. The burn-in is your MCMC figuring out what value it wants to settle on before getting into a holding pattern on that value. It is usually discarded in the next plots.\n",
    "\n",
    "2.) Corner Plots: these show how constrained the fit is. Good corner plots should look something like this: (https://www.researchgate.net/figure/Corner-plot-resulting-from-our-MCMC-analysis-of-the-TESS-photometry-of-14-Peg-Red_fig1_347534572), where there's a good spread of values that cluster around a central point, which is our correct value. \n",
    "\n",
    "3.) The MCMC's Answer: these values are the answers from MCMC with errors. Our errors are calculated by getting the difference between our 50th percentile answer and our 16th percentile answer, and our 84th percentile answer and our 50th percentile answer for our lower error bar and upper error bar, respectively.\n",
    "\n",
    "4.) Our Final Fitted Plot: note that I declare the model within the plt.plot() call itself. You might want to change this later depending on how you use this algorithm.\n",
    "\n",
    "### Final Notes:\n",
    "Values you can and should change are marked with a comment with two exclamation points. Running a 5000 step run takes about three seconds for me, it should take around that amount of time for you. Once you've gotten used to playing around with a generated fit and you've gotten used to sine fitting TOI-4468 without using MCMC, switch over to using the RV data for TOI-4468. It'll provide some interesting challenges, especially given that you will have to phase fold before you input it into the MCMC run.\n",
    "\n",
    "A few important notes about MCMC. Depending on how your traces look, you might need to throw away more steps in your burn-in. Look for where that the line flattens out, that's how many steps you'll want to throw away. The farther away from the real values your fit is, the larger your burn-in. In MCMC, your fit will be improved the more steps you add, to a point. At a certain point, if you add more steps, you're just wasting time. Since these values have errors on them, we can only be so accurate in our knowledge of the \"true value.\" This is just an approximation, a very good one, but still just an approximation. Keep that in mind before you ask it to run a billion steps. Finally, when you use this code for TOI-4468, I would suggest making a copy of this notebook and editing that so you still have whatever edits you've made here along with the new work you're going to do. I will always have this original copy of the notebook, so if you need it, it's always here.\n",
    "\n",
    "Hope this is helpful, good luck, and happy fitting!"
   ]
  },
  {
   "cell_type": "code",
   "execution_count": 1,
   "id": "c12386c3",
   "metadata": {},
   "outputs": [
    {
     "name": "stderr",
     "output_type": "stream",
     "text": [
      "/var/folders/v3/t2tf85qd2rd8bv26z7c0rr7w0000gn/T/ipykernel_60565/860263722.py:18: DeprecationWarning: Importing display from IPython.core.display is deprecated since IPython 7.14, please import from IPython display\n",
      "  from IPython.core.display import display, HTML\n"
     ]
    }
   ],
   "source": [
    "# Import statements - I use a lot, don't worry about these\n",
    "import numpy as np\n",
    "\n",
    "import matplotlib.pyplot as plt\n",
    "\n",
    "from scipy.optimize import minimize\n",
    "\n",
    "import emcee\n",
    "\n",
    "import corner\n",
    "\n",
    "from IPython.display import display, Math\n",
    "\n",
    "import matplotlib as mpl\n",
    "# mpl.rc('font', family='serif', serif='Times New Roman')\n",
    "# mpl.rcParams['figure.dpi'] = 600\n",
    "import seaborn as sns\n",
    "from IPython.core.display import display, HTML\n",
    "# display(HTML(\"<style>.container { width:96% !important; }</style>\"))\n",
    "%matplotlib inline\n",
    "import glob \n",
    "import pandas as pd\n",
    "pd.options.display.max_columns = 100\n",
    "pd.options.display.max_rows = 100\n",
    "\n",
    "# plt.rcParams.update({'figure.figsize': (12,6)})\n",
    "#from astroquery.simbad import Simbad\n",
    "#from astroquery.vizier import Vizier\n",
    "#from astroquery.mast import Observations\n",
    "#import astropy.units as u\n",
    "#import lightkurve as lk\n",
    "import warnings\n",
    "warnings.filterwarnings('ignore')\n",
    "\n",
    "import scipy.stats as stats\n",
    "\n",
    "#from copy import deepcopy\n",
    "#from astropy import table\n",
    "\n",
    "#from astropy.io import fits"
   ]
  },
  {
   "cell_type": "code",
   "execution_count": 2,
   "id": "6821b320",
   "metadata": {},
   "outputs": [],
   "source": [
    "# Define the sine function we'll use as our model\n",
    "def sin_function(t, amp, freq, pha, vert):\n",
    "    return amp * np.sin((freq * t) + pha) + vert\n",
    "    \n",
    "def fit_function(t, amp, pha, vert):\n",
    "    return amp * np.sin((2*np.pi * t) + pha) + vert"
   ]
  },
  {
   "cell_type": "code",
   "execution_count": 3,
   "id": "b5c1ca97",
   "metadata": {},
   "outputs": [],
   "source": [
    "# Define Priors - The boundaries on what is allowed for our model\n",
    "## Returning 0 shows that the values are valid for the model\n",
    "## Returning -infinity shows that the values are not valid for the model\n",
    "def log_prior(theta):\n",
    "    ## Get our parameters for the model\n",
    "    amplitude, phase, vertical_shift = theta\n",
    "    \n",
    "    ## Check if the amplitude and frequency are greater than 0\n",
    "    if amplitude > 0 and 2*np.pi > phase > 0: # !! Change these if you want a more constrained fit\n",
    "        return 0\n",
    "    \n",
    "    return -np.inf"
   ]
  },
  {
   "cell_type": "code",
   "execution_count": 4,
   "id": "98fc518e",
   "metadata": {},
   "outputs": [],
   "source": [
    "# Define Likelihood Function\n",
    "def log_likelihood(parameters, x, y, data_err):\n",
    "    ## Get our parameters for the model\n",
    "    amplitude, phase, vertical_shift = parameters\n",
    "    \n",
    "    ## Check our parameters against our priors\n",
    "    ## If lp is negative infinity, the values are invalid, a model will not be calculated, \n",
    "    ##  and these values will be labeled as very unlikely\n",
    "    lp = log_prior(parameters)\n",
    "    if not np.isfinite(lp):\n",
    "        return -np.inf\n",
    "    \n",
    "    ## Generate a new version of our model using our current x values\n",
    "    model = fit_function(x, amplitude, phase, vertical_shift)\n",
    "    \n",
    "    \n",
    "    ## Compare using chi squared\n",
    "    chisquared = np.nansum(((y-model)**2/(data_err**2)))\n",
    "    ## Return our chi squared value for later evaluation done by emcee\n",
    "    return (-0.5 * chisquared)"
   ]
  },
  {
   "cell_type": "code",
   "execution_count": 5,
   "id": "f6906185",
   "metadata": {},
   "outputs": [],
   "source": [
    "# Set up initial values with random additions\n",
    "ndim = 3\n",
    "nwalkers = 16 # !! Change this if you want more walkers looking around parameter space. This will make your fit take longer.\n",
    "\n",
    "# Creates an array of random additions the same size as our number of walkers and number of values being fit\n",
    "random_additions = np.random.rand(nwalkers, ndim)\n",
    "\n",
    "# Sets random additions to be a small value for a small variation\n",
    "## !! Feel free to change the 0.01 values after random_additions[i][j]. I've marked them with a comment with '!!'\n",
    "##  These will change how far your values change on each step of the MCMC run\n",
    "for i in range(len(random_additions)):\n",
    "    for j in range(len(random_additions[0])):\n",
    "        if j == 0:\n",
    "            random_additions[i][j] = random_additions[i][j] * 0.01 # !!\n",
    "        elif j == 1:\n",
    "            random_additions[i][j] = random_additions[i][j] * 0.01 # !!\n",
    "        elif j == 2:\n",
    "            random_additions[i][j] = random_additions[i][j] * 0.01 # !!\n",
    "        #elif j == 3:\n",
    "        #    random_additions[i][j] = random_additions[i][j] * 0.01 # !!\n",
    "\n",
    "# Initial Values - Insert your own way to find the initial amplitude, frequency, phase, and vertical shift!\n",
    "amp0 = 32.51286944051743 # !!\n",
    "phase0 = 2.025620444551217 # !!\n",
    "vert0 = -15.502804859016733 # !!\n",
    "\n",
    "# !! Declare an array with our initial conditions\n",
    "p0 = np.add(np.asarray([amp0, phase0, vert0]), random_additions)"
   ]
  },
  {
   "cell_type": "code",
   "execution_count": 6,
   "id": "99a67e5c",
   "metadata": {},
   "outputs": [],
   "source": [
    "# Generate data with noise and errors\n",
    "#t = np.linspace(0, 4 * np.pi, 8)\n",
    "\n",
    "# !! Change these values for a different sine curve!\n",
    "#amp_true, freq_true, phase_true, vert_true = 10, 1.5, 2.5, 0\n",
    "#sinecurve = sin_function(t, amp_true, freq_true, phase_true, vert_true) + np.random.normal(0, 0.7, t.size)\n",
    "\n",
    "# !! Change the magnitude of errors by changing the second value in this call here\n",
    "#gen_err = np.random.normal(0.1, 0.3, t.size)"
   ]
  },
  {
   "cell_type": "code",
   "execution_count": null,
   "id": "4735295a-40b1-4275-ba09-b671a0b9e0a6",
   "metadata": {},
   "outputs": [],
   "source": []
  },
  {
   "cell_type": "code",
   "execution_count": 7,
   "id": "1c24473c-7bf3-4361-8122-3e20a53cb79c",
   "metadata": {
    "scrolled": true
   },
   "outputs": [
    {
     "name": "stdout",
     "output_type": "stream",
     "text": [
      "0     54.432074\n",
      "1    -21.713454\n",
      "2    -45.167308\n",
      "3     -5.299056\n",
      "4    -39.979129\n",
      "5    -10.046810\n",
      "6    -47.531130\n",
      "7    -54.320239\n",
      "8    133.349369\n",
      "9    -33.789008\n",
      "Name: rv, dtype: float64\n",
      "0    2.460195e+06\n",
      "1    2.460237e+06\n",
      "2    2.460240e+06\n",
      "3    2.460328e+06\n",
      "4    2.460329e+06\n",
      "5    2.460342e+06\n",
      "6    2.460412e+06\n",
      "7    2.460448e+06\n",
      "8    2.460455e+06\n",
      "9    2.460473e+06\n",
      "Name: bjd, dtype: float64\n",
      "0     7.408624\n",
      "1     9.791496\n",
      "2     8.761311\n",
      "3     6.358875\n",
      "4    10.720334\n",
      "5    10.144447\n",
      "6     8.128676\n",
      "7    10.142950\n",
      "8     7.554475\n",
      "9     6.227334\n",
      "Name: e_rv, dtype: float64\n"
     ]
    }
   ],
   "source": [
    "# Reading of Data\n",
    "NEID = pd.read_csv(\"updated_rvs.csv\")\n",
    "\n",
    "# Processing Radial Velocity\n",
    "RV = NEID.iloc[:, 1]\n",
    "print(RV)\n",
    "\n",
    "# Processing Time in BJD\n",
    "BJD = NEID.iloc[:, 0] #BJD(days)\n",
    "print(BJD)\n",
    "\n",
    "# Processing Error\n",
    "dvrms = NEID.iloc[:, 2]\n",
    "print(dvrms)\n"
   ]
  },
  {
   "cell_type": "code",
   "execution_count": 8,
   "id": "69b75448-e99f-4460-872f-b933c9036b5f",
   "metadata": {},
   "outputs": [],
   "source": [
    "# Phase Folding\n",
    "period_C = 7.014001 #Days\n",
    "phase_C = (BJD % period_C) / period_C\n"
   ]
  },
  {
   "cell_type": "code",
   "execution_count": null,
   "id": "79ee0fb7-f081-48f4-a9a8-b5dd25429fca",
   "metadata": {},
   "outputs": [],
   "source": []
  },
  {
   "cell_type": "code",
   "execution_count": null,
   "id": "de51f850",
   "metadata": {
    "tags": []
   },
   "outputs": [
    {
     "name": "stderr",
     "output_type": "stream",
     "text": [
      " 99%|███████████████████████████████████▊| 49741/50000 [02:12<00:00, 372.17it/s]"
     ]
    }
   ],
   "source": [
    "# Run Emcee!\n",
    "## Declare the sampler\n",
    "sampler = emcee.EnsembleSampler(\n",
    "    ## Tells the sampler how many walkers are wanted (nwalkers), how many values are being fitted (ndim),\n",
    "    ##  our likelihood function, and the constants used in the fit/arguments (args=(t, sinecurve, gen_err)) \n",
    "    nwalkers, ndim, log_likelihood, args=(phase_C, RV, dvrms)\n",
    ")\n",
    "# Runs the sampler given our initial conditions (p0)\n",
    "## Set to 5000 steps for a quick fit. Additionally shows a progress bar so you can see how long it will take to run\n",
    "## !! Change number of steps for a more percice fit (to a point!)\n",
    "sampler.run_mcmc(p0, 50000, progress=True);"
   ]
  },
  {
   "cell_type": "code",
   "execution_count": null,
   "id": "692ec525",
   "metadata": {},
   "outputs": [],
   "source": []
  },
  {
   "cell_type": "code",
   "execution_count": null,
   "id": "374f2e5d",
   "metadata": {},
   "outputs": [],
   "source": [
    "# Plot Trace\n",
    "fig, axes = plt.subplots(ndim, figsize=(10, 9), sharex=True)\n",
    "samples = sampler.get_chain()\n",
    "labels = ['Amplitude', 'Phase', 'Vertical Shift']\n",
    "for i in range(ndim):\n",
    "    ax = axes[i]\n",
    "    ax.plot(samples[:, :, i], \"k\", alpha=0.3)\n",
    "    ax.set_xlim(0, len(samples))\n",
    "    ax.set_ylabel(labels[i])\n",
    "    ax.yaxis.set_label_coords(-0.1, 0.5)\n",
    "\n",
    "axes[-1].set_xlabel(\"step number\");"
   ]
  },
  {
   "cell_type": "code",
   "execution_count": null,
   "id": "8d833c7b",
   "metadata": {},
   "outputs": [],
   "source": [
    "# Discard first 100 walkers\n",
    "flat_samples = sampler.get_chain(discard=100, thin=15, flat=True) # !! Change discard=XXX depending on how traces look\n",
    "print(flat_samples.shape)"
   ]
  },
  {
   "cell_type": "code",
   "execution_count": null,
   "id": "74e5a2ec",
   "metadata": {},
   "outputs": [],
   "source": [
    "# Plot corner plots\n",
    "fig = corner.corner(\n",
    "    flat_samples, labels=labels\n",
    ");"
   ]
  },
  {
   "cell_type": "code",
   "execution_count": null,
   "id": "b77da619",
   "metadata": {},
   "outputs": [],
   "source": [
    "# Print calculated values\n",
    "answers = []\n",
    "for i in range(ndim):\n",
    "    mcmc = np.percentile(flat_samples[:, i], [16, 50, 84])\n",
    "    q = np.diff(mcmc)\n",
    "    txt = \"\\mathrm{{{3}}} = {0:.7f}_{{-{1:.7f}}}^{{{2:.7f}}}\"\n",
    "    txt = txt.format(mcmc[1], q[0], q[1], labels[i])\n",
    "    answers.append(mcmc[1])\n",
    "    display(Math(txt))"
   ]
  },
  {
   "cell_type": "code",
   "execution_count": null,
   "id": "2380f0b2-b43b-4c1e-9b24-5fc4adc05785",
   "metadata": {},
   "outputs": [],
   "source": [
    "ampmax = answers[0] + err[0]\n",
    "ampmin = answers[0] - err[1]\n",
    "\n",
    "phasemax = answers[1] + err[2]\n",
    "phasemin = answers[1] - err[3]\n",
    "\n",
    "\n",
    "vertmax = answers[2] + err[4]\n",
    "vertmin = answers[2] - err[5]"
   ]
  },
  {
   "cell_type": "code",
   "execution_count": null,
   "id": "efb6b33b",
   "metadata": {},
   "outputs": [],
   "source": [
    "# Plot data and fitted curve\n",
    "plt.figure(figsize=(12, 6))\n",
    "t_fit = np.linspace(0, 1, 100)\n",
    "phase_fit = fit_function(t_fit, answers[0], answers[1], answers[2])\n",
    "phase_fit_max = fit_function(t_fit, ampmax, phasemax,vertmax)\n",
    "phase_fit_min = fit_function(t_fit, ampmin, phasemin,vertmin)\n",
    "plt.plot(t_fit, phase_fit, label='Fitted Sine Curve, Highest Possibility', color='tab:red', linewidth=3)\n",
    "plt.plot(t_fit, phase_fit_max, label='Fitted Sine Curve, Max Value', color='tab:blue', linewidth=3)\n",
    "plt.plot(t_fit, phase_fit_min, label='Fitted Sine Curve, Min Value', color='tab:purple', linewidth=3)\n",
    "plt.errorbar(phase_C, RV, yerr=abs(dvrms), label='RV Data and Errors', fmt='o', capsize=5)\n",
    "plt.xlabel('Phase of Orbit')\n",
    "plt.ylabel('Radial Velocity')\n",
    "plt.title('Data Fitting to a Sine Curve Using MCMC')\n",
    "plt.legend()\n",
    "plt.grid()\n",
    "plt.show()"
   ]
  },
  {
   "cell_type": "code",
   "execution_count": null,
   "id": "77bb7b2f",
   "metadata": {},
   "outputs": [],
   "source": [
    "#Mass Computation\n",
    "import numpy as np\n",
    "\n",
    "# Given parameters\n",
    "K = 32.5195996-3.3163424 # Radial velocity amplitude in m/s\n",
    "P = 606009.686  # Orbital period in seconds\n",
    "M_s = 1.63489e30  # Mass of the host star in kg\n",
    "e = 0  # Eccentricity\n",
    "\n",
    "# Gravitational constant in m^3 kg^-1 s^-2\n",
    "G = 6.67430e-11  \n",
    "\n",
    "# Calculate M_p * sin(i)\n",
    "Mp_sin_i = K * ((P / (2 * np.pi * G)) ** (1/3)) * (M_s ** (2/3)) * (1 / np.sqrt(1 - e**2))\n",
    "\n",
    "# Output the result\n",
    "Mp_sin_i\n",
    "\n",
    "Mp_sin_i = Mp_sin_i / 1.898e27\n",
    "print(Mp_sin_i)"
   ]
  },
  {
   "cell_type": "code",
   "execution_count": null,
   "id": "3829d026-1d9e-455f-a43a-634d91c0a7c2",
   "metadata": {},
   "outputs": [],
   "source": []
  },
  {
   "cell_type": "code",
   "execution_count": null,
   "id": "fa2bdf31-dae1-4469-80ce-aae2459b3f10",
   "metadata": {},
   "outputs": [],
   "source": []
  }
 ],
 "metadata": {
  "kernelspec": {
   "display_name": "Python 3 (ipykernel)",
   "language": "python",
   "name": "python3"
  },
  "language_info": {
   "codemirror_mode": {
    "name": "ipython",
    "version": 3
   },
   "file_extension": ".py",
   "mimetype": "text/x-python",
   "name": "python",
   "nbconvert_exporter": "python",
   "pygments_lexer": "ipython3",
   "version": "3.12.5"
  }
 },
 "nbformat": 4,
 "nbformat_minor": 5
}
