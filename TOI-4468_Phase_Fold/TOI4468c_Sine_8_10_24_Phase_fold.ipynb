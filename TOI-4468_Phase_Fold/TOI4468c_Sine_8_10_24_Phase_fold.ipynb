{
 "cells": [
  {
   "cell_type": "code",
   "execution_count": null,
   "id": "a16b3f1a",
   "metadata": {
    "tags": []
   },
   "outputs": [],
   "source": [
    "#NEW SINE FITTING(Synthetic), CURVE_FIT WITH A CHI_SQUARE EVALUATOR, updated on Tuesday, at 8:17 PM\n",
    "import numpy as np\n",
    "import matplotlib.pyplot as plt\n",
    "from scipy.optimize import curve_fit\n",
    "import pandas as pd"
   ]
  },
  {
   "cell_type": "code",
   "execution_count": null,
   "id": "ff865f4c-1836-4463-8500-7d0e207fb3cf",
   "metadata": {},
   "outputs": [],
   "source": [
    "# Define the sine function for Synthetic Data\n",
    "def sin_function(t, amp0, freq0, phase0, vert0):\n",
    "    return amp0 * np.sin(freq0 * t + phase0) + vert0\n",
    "\n",
    "def fit_function(t, amp, phase, vert):\n",
    "    return amp * np.sin(2*np.pi * t + phase) + vert"
   ]
  },
  {
   "cell_type": "code",
   "execution_count": null,
   "id": "967d0e39-f944-4133-9203-b0c432a63dc3",
   "metadata": {},
   "outputs": [
    {
     "name": "stdout",
     "output_type": "stream",
     "text": [
      "0     54.432074\n",
      "1    -21.713454\n",
      "2    -45.167308\n",
      "3     -5.299056\n",
      "4    -39.979129\n",
      "5    -10.046810\n",
      "6    -47.531130\n",
      "7    -54.320239\n",
      "8    133.349369\n",
      "9    -33.789008\n",
      "Name: rv, dtype: float64\n",
      "0    2.460195e+06\n",
      "1    2.460237e+06\n",
      "2    2.460240e+06\n",
      "3    2.460328e+06\n",
      "4    2.460329e+06\n",
      "5    2.460342e+06\n",
      "6    2.460412e+06\n",
      "7    2.460448e+06\n",
      "8    2.460455e+06\n",
      "9    2.460473e+06\n",
      "Name: bjd, dtype: float64\n",
      "0     7.408624\n",
      "1     9.791496\n",
      "2     8.761311\n",
      "3     6.358875\n",
      "4    10.720334\n",
      "5    10.144447\n",
      "6     8.128676\n",
      "7    10.142950\n",
      "8     7.554475\n",
      "9     6.227334\n",
      "Name: e_rv, dtype: float64\n"
     ]
    }
   ],
   "source": [
    "# Reading of Data\n",
    "NEID = pd.read_csv(\"updated_rvs.csv\")\n",
    "\n",
    "# Processing Radial Velocity\n",
    "RV = NEID.iloc[:, 1]\n",
    "print(RV)\n",
    "\n",
    "# Processing Time in BJD\n",
    "BJD = NEID.iloc[:, 0] #BJD(days)\n",
    "print(BJD)\n",
    "\n",
    "# Processing Error\n",
    "dvrms = NEID.iloc[:, 2]\n",
    "print(dvrms)"
   ]
  },
  {
   "cell_type": "code",
   "execution_count": null,
   "id": "fab895f2-e568-4849-8e63-99d395b0fb7e",
   "metadata": {},
   "outputs": [
    {
     "data": {
      "text/plain": [
       "pandas.core.series.Series"
      ]
     },
     "execution_count": 4,
     "metadata": {},
     "output_type": "execute_result"
    }
   ],
   "source": [
    "#Phase Folding\n",
    "period_C = 7.014001 #days\n",
    "phase_C = (BJD % period_C) / period_C\n",
    "freq_true = 2*np.pi/period_C\n",
    "type(phase_C)"
   ]
  },
  {
   "cell_type": "code",
   "execution_count": null,
   "id": "76aa93aa-6499-4380-a1e4-35d7378dec19",
   "metadata": {},
   "outputs": [
    {
     "name": "stdout",
     "output_type": "stream",
     "text": [
      "Amplitude: 32.51286944051743\n",
      "Phase: 2.025620444551217\n",
      "Vertical Shift: -15.502804859016733\n"
     ]
    }
   ],
   "source": [
    "# Perform the initial fit\n",
    "params, params_covariance = curve_fit(fit_function, phase_C, RV, sigma=dvrms)\n",
    "amp_fit, phase_fit, vert_fit = params\n",
    "\n",
    "# Generate fitted data\n",
    "freq_fit = freq_true\n",
    "y_fit = sin_function(BJD, amp_fit, freq_fit, phase_fit, vert_fit)\n",
    "print('Amplitude:', abs(amp_fit))\n",
    "print('Phase:', phase_fit % (2*np.pi))\n",
    "print('Vertical Shift:', vert_fit)\n",
    "\n"
   ]
  },
  {
   "cell_type": "code",
   "execution_count": null,
   "id": "a208c06e-6616-4484-a6df-7d11dab22e99",
   "metadata": {},
   "outputs": [],
   "source": []
  },
  {
   "cell_type": "code",
   "execution_count": 10,
   "id": "1638bde6-437d-40cf-b1a4-d8ab9dafdf3b",
   "metadata": {
    "tags": []
   },
   "outputs": [
    {
     "data": {
      "image/png": "[encoded data removed]",
      "text/plain": [
       "<Figure size 864x432 with 1 Axes>"
      ]
     },
     "metadata": {
      "needs_background": "light"
     },
     "output_type": "display_data"
    }
   ],
   "source": [
    "#Plotting\n",
    "plt.figure(figsize=(12, 6))\n",
    "plt.errorbar(phase_C, RV, yerr=abs(dvrms), label='RV Data and Errors', fmt='o', capsize=5)\n",
    "t_fit = np.linspace(0, 1, 100)\n",
    "y_line = fit_function(t_fit, amp_fit, phase_fit, vert_fit)\n",
    "plt.plot(t_fit, y_line, label='Fitted sine curve', color='tab:red', linewidth=3)\n",
    "plt.xlabel('Phase of Orbit')\n",
    "plt.ylabel('Radial Velocity')\n",
    "plt.legend()\n",
    "plt.show()"
   ]
  },
  {
   "cell_type": "code",
   "execution_count": null,
   "id": "a8efd0c8-0070-4d53-b697-bcf1e8a5a99b",
   "metadata": {},
   "outputs": [
    {
     "name": "stdout",
     "output_type": "stream",
     "text": [
      "0.26877122752622057\n"
     ]
    }
   ],
   "source": [
    "#Mass Computation\n",
    "import numpy as np\n",
    "\n",
    "# Given parameters\n",
    "K = abs(amp_fit) # Radial velocity amplitude in m/s\n",
    "P = 606009.686  # Orbital period in seconds\n",
    "M_s = 1.63489e30  # Mass of the host star in kg\n",
    "e = 0  # Eccentricity\n",
    "\n",
    "# Gravitational constant in m^3 kg^-1 s^-2\n",
    "G = 6.67430e-11  \n",
    "\n",
    "# Calculate M_p * sin(i)\n",
    "Mp_sin_i = K * ((P / (2 * np.pi * G)) ** (1/3)) * (M_s ** (2/3)) * (1 / np.sqrt(1 - e**2))\n",
    "\n",
    "# Output the result\n",
    "Mp_sin_i\n",
    "\n",
    "Mp_sin_i = Mp_sin_i / 1.898e27\n",
    "print(Mp_sin_i)"
   ]
  },
  {
   "cell_type": "code",
   "execution_count": null,
   "id": "799bda74-3d6b-4be6-8066-da7cd62ced76",
   "metadata": {},
   "outputs": [
    {
     "data": {
      "text/plain": [
       "5.101627301043451e+26"
      ]
     },
     "execution_count": 8,
     "metadata": {},
     "output_type": "execute_result"
    }
   ],
   "source": [
    "(1.89813 * 10 ** 27) * 0.26877122752622057"
   ]
  },
  {
   "cell_type": "code",
   "execution_count": null,
   "id": "42092efc-5b24-46c2-afe1-674ff68ed231",
   "metadata": {},
   "outputs": [
    {
     "data": {
      "text/plain": [
       "4.982057911175245"
      ]
     },
     "execution_count": 9,
     "metadata": {},
     "output_type": "execute_result"
    }
   ],
   "source": [
    "((1.89813 * 10 ** 27) * 0.26877122752622057)/(1.024*(10 ** 26))"
   ]
  },
  {
   "cell_type": "code",
   "execution_count": null,
   "id": "aa1e5f60-ce58-4759-a1b6-5e4d09ba8d02",
   "metadata": {},
   "outputs": [],
   "source": []
  }
 ],
 "metadata": {
  "kernelspec": {
   "display_name": "Python 3 (ipykernel)",
   "language": "python",
   "name": "python3"
  },
  "language_info": {
   "codemirror_mode": {
    "name": "ipython",
    "version": 3
   },
   "file_extension": ".py",
   "mimetype": "text/x-python",
   "name": "python",
   "nbconvert_exporter": "python",
   "pygments_lexer": "ipython3",
   "version": "3.9.10"
  }
 },
 "nbformat": 4,
 "nbformat_minor": 5
}
