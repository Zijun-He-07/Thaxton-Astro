{
 "cells": [
  {
   "cell_type": "code",
   "execution_count": 9,
   "metadata": {},
   "outputs": [
    {
     "name": "stdout",
     "output_type": "stream",
     "text": [
      "3\n"
     ]
    },
    {
     "data": {
      "text/plain": [
       "int"
      ]
     },
     "execution_count": 9,
     "metadata": {},
     "output_type": "execute_result"
    }
   ],
   "source": [
    "number:int = 3\n",
    "print(number)\n",
    "type(number)"
   ]
  },
  {
   "cell_type": "code",
   "execution_count": 10,
   "metadata": {},
   "outputs": [
    {
     "name": "stdout",
     "output_type": "stream",
     "text": [
      "Hello World\n"
     ]
    },
    {
     "data": {
      "text/plain": [
       "str"
      ]
     },
     "execution_count": 10,
     "metadata": {},
     "output_type": "execute_result"
    }
   ],
   "source": [
    "phrase:str = 'Hello World'\n",
    "print(phrase)\n",
    "type(phrase)"
   ]
  },
  {
   "cell_type": "code",
   "execution_count": 11,
   "metadata": {},
   "outputs": [
    {
     "name": "stdout",
     "output_type": "stream",
     "text": [
      "[1, 5, 3, 5, 7, 4, 56, 7, 453, 2456, 586, 2364, 2315, 6]\n"
     ]
    },
    {
     "data": {
      "text/plain": [
       "list"
      ]
     },
     "execution_count": 11,
     "metadata": {},
     "output_type": "execute_result"
    }
   ],
   "source": [
    "list1 = [1,5,3,5,7,4,56,7,453,2456,586,2364,2315,6]\n",
    "print(list1)\n",
    "type(list1)"
   ]
  },
  {
   "cell_type": "code",
   "execution_count": 32,
   "metadata": {},
   "outputs": [
    {
     "name": "stdout",
     "output_type": "stream",
     "text": [
      "3.141592653589793\n"
     ]
    },
    {
     "data": {
      "text/plain": [
       "float"
      ]
     },
     "execution_count": 32,
     "metadata": {},
     "output_type": "execute_result"
    }
   ],
   "source": [
    "import numpy as np\n",
    "pi = np.pi\n",
    "print(pi)\n",
    "type(pi)"
   ]
  },
  {
   "cell_type": "code",
   "execution_count": 13,
   "metadata": {
    "scrolled": true
   },
   "outputs": [
    {
     "name": "stdout",
     "output_type": "stream",
     "text": [
      "[96, 98, 85, 70, 60, 97, 50, 56, 81, 73, 89, 51, 56, 95, 80, 64, 83, 80, 71, 97, 69, 92, 62, 54, 60, 87]\n",
      "75.23076923076923\n",
      "['A', 'A', 'B', 'C', 'D', 'A', 'F', 'F', 'B', 'C', 'B', 'F', 'F', 'A', 'B', 'D', 'B', 'B', 'C', 'A', 'D', 'A', 'D', 'F', 'D', 'B']\n"
     ]
    }
   ],
   "source": [
    "# Grades Calculator\n",
    "import random\n",
    "grades = []\n",
    "letter_grades = []\n",
    "students = 26\n",
    "# Getting Grades of Random Students\n",
    "for i in range(students):\n",
    "    grades.append(random.randint(50,100))\n",
    "print(grades)\n",
    "# Finding the Average of the \"Class\"\n",
    "avg = sum(grades)/len(grades)\n",
    "print(avg)\n",
    "# Converting all of the grades from numbers to letters.\n",
    "for i in range(len(grades)):\n",
    "    if grades[i]>=90:\n",
    "        letter_grades.append('A')\n",
    "    elif 90>grades[i]>=80:\n",
    "        letter_grades.append('B')\n",
    "    elif 80>grades[i]>=70:\n",
    "        letter_grades.append('C')\n",
    "    elif 70>grades[i]>=60:\n",
    "        letter_grades.append('D')\n",
    "    else:\n",
    "        letter_grades.append('F')\n",
    "print(letter_grades)\n"
   ]
  },
  {
   "cell_type": "code",
   "execution_count": 16,
   "metadata": {},
   "outputs": [
    {
     "name": "stdout",
     "output_type": "stream",
     "text": [
      "Out of  16  flips,  5  are heads  and  11  are tails\n"
     ]
    }
   ],
   "source": [
    "# Coin Flipper\n",
    "import random\n",
    "heads = 0\n",
    "tails = 0\n",
    "flips = 16\n",
    "# Randomized Coin Flip\n",
    "for i in range(flips):\n",
    "    coin_flip = random.randint(1,2)\n",
    "    if coin_flip == 1:\n",
    "        heads += 1\n",
    "    else:\n",
    "        tails += 1\n",
    "# Results:\n",
    "print('Out of ', flips, ' flips, ', heads, ' are heads', ' and ', tails, ' are tails')"
   ]
  },
  {
   "cell_type": "code",
   "execution_count": 41,
   "metadata": {
    "scrolled": true
   },
   "outputs": [
    {
     "data": {
      "text/html": [
       "<div>\n",
       "<style scoped>\n",
       "    .dataframe tbody tr th:only-of-type {\n",
       "        vertical-align: middle;\n",
       "    }\n",
       "\n",
       "    .dataframe tbody tr th {\n",
       "        vertical-align: top;\n",
       "    }\n",
       "\n",
       "    .dataframe thead th {\n",
       "        text-align: right;\n",
       "    }\n",
       "</style>\n",
       "<table border=\"1\" class=\"dataframe\">\n",
       "  <thead>\n",
       "    <tr style=\"text-align: right;\">\n",
       "      <th></th>\n",
       "      <th>filename</th>\n",
       "      <th>object</th>\n",
       "      <th>qobject</th>\n",
       "      <th>qra</th>\n",
       "      <th>qdec</th>\n",
       "      <th>obsdate</th>\n",
       "      <th>exptime</th>\n",
       "      <th>obsmode</th>\n",
       "      <th>obstype</th>\n",
       "      <th>program</th>\n",
       "      <th>...</th>\n",
       "      <th>sunagl</th>\n",
       "      <th>airmass</th>\n",
       "      <th>seeing</th>\n",
       "      <th>moonagl</th>\n",
       "      <th>ccfjdsum</th>\n",
       "      <th>ccfrvmod</th>\n",
       "      <th>dvrms</th>\n",
       "      <th>swversion</th>\n",
       "      <th>extsnr</th>\n",
       "      <th>flaggedval</th>\n",
       "    </tr>\n",
       "  </thead>\n",
       "  <tbody>\n",
       "    <tr>\n",
       "      <th>0</th>\n",
       "      <td>neidL2_20240517T043020.fits</td>\n",
       "      <td>TIC 441763252</td>\n",
       "      <td>Gaia DR2 1651960184296418944</td>\n",
       "      <td>17:22:18.0055</td>\n",
       "      <td>+72:38:43.342</td>\n",
       "      <td>2024-05-17 04:30:20</td>\n",
       "      <td>3299.825359</td>\n",
       "      <td>he</td>\n",
       "      <td>Sci</td>\n",
       "      <td>2024A-754589</td>\n",
       "      <td>...</td>\n",
       "      <td>-24.0770</td>\n",
       "      <td>1.6756</td>\n",
       "      <td>0.0</td>\n",
       "      <td>93.6279</td>\n",
       "      <td>2.460448e+06</td>\n",
       "      <td>-18.7598</td>\n",
       "      <td>0.0683</td>\n",
       "      <td>v1.3.0</td>\n",
       "      <td>11.1498</td>\n",
       "      <td>NaN</td>\n",
       "    </tr>\n",
       "    <tr>\n",
       "      <th>1</th>\n",
       "      <td>neidL2_20240411T103612.fits</td>\n",
       "      <td>TIC 441763252</td>\n",
       "      <td>Gaia DR2 1651960184296418944</td>\n",
       "      <td>17:22:18.0055</td>\n",
       "      <td>+72:38:43.342</td>\n",
       "      <td>2024-04-11 10:36:12</td>\n",
       "      <td>3299.822945</td>\n",
       "      <td>he</td>\n",
       "      <td>Sci</td>\n",
       "      <td>2024A-754589</td>\n",
       "      <td>...</td>\n",
       "      <td>-29.3961</td>\n",
       "      <td>1.3281</td>\n",
       "      <td>0.0</td>\n",
       "      <td>89.6943</td>\n",
       "      <td>2.460412e+06</td>\n",
       "      <td>-18.7584</td>\n",
       "      <td>0.0859</td>\n",
       "      <td>v1.3.0</td>\n",
       "      <td>13.5742</td>\n",
       "      <td>NaN</td>\n",
       "    </tr>\n",
       "    <tr>\n",
       "      <th>2</th>\n",
       "      <td>neidL2_20240201T100953.fits</td>\n",
       "      <td>TIC 441763252</td>\n",
       "      <td>Gaia DR2 1651960184296418944</td>\n",
       "      <td>17:22:18.0055</td>\n",
       "      <td>+72:38:43.342</td>\n",
       "      <td>2024-02-01 10:09:53</td>\n",
       "      <td>3299.817545</td>\n",
       "      <td>he</td>\n",
       "      <td>Sci</td>\n",
       "      <td>2023B-657754</td>\n",
       "      <td>...</td>\n",
       "      <td>-53.0748</td>\n",
       "      <td>1.9462</td>\n",
       "      <td>0.0</td>\n",
       "      <td>83.4431</td>\n",
       "      <td>2.460342e+06</td>\n",
       "      <td>-18.7299</td>\n",
       "      <td>0.0955</td>\n",
       "      <td>v1.3.0</td>\n",
       "      <td>11.0570</td>\n",
       "      <td>NaN</td>\n",
       "    </tr>\n",
       "    <tr>\n",
       "      <th>3</th>\n",
       "      <td>neidL2_20240119T113407.fits</td>\n",
       "      <td>TIC 441763252</td>\n",
       "      <td>Gaia DR2 1651960184296418944</td>\n",
       "      <td>17:22:18.0055</td>\n",
       "      <td>+72:38:43.342</td>\n",
       "      <td>2024-01-19 11:34:07</td>\n",
       "      <td>3299.811149</td>\n",
       "      <td>he</td>\n",
       "      <td>Sci</td>\n",
       "      <td>2023B-657754</td>\n",
       "      <td>...</td>\n",
       "      <td>-36.1949</td>\n",
       "      <td>1.8178</td>\n",
       "      <td>0.0</td>\n",
       "      <td>83.1113</td>\n",
       "      <td>2.460329e+06</td>\n",
       "      <td>-18.7624</td>\n",
       "      <td>0.0738</td>\n",
       "      <td>v1.3.0</td>\n",
       "      <td>10.5420</td>\n",
       "      <td>NaN</td>\n",
       "    </tr>\n",
       "    <tr>\n",
       "      <th>4</th>\n",
       "      <td>neidL2_20240118T112324.fits</td>\n",
       "      <td>TIC 441763252</td>\n",
       "      <td>Gaia DR2 1651960184296418944</td>\n",
       "      <td>17:22:18.0055</td>\n",
       "      <td>+72:38:43.342</td>\n",
       "      <td>2024-01-18 11:23:24</td>\n",
       "      <td>3299.801287</td>\n",
       "      <td>he</td>\n",
       "      <td>Sci</td>\n",
       "      <td>2023B-657754</td>\n",
       "      <td>...</td>\n",
       "      <td>-38.4851</td>\n",
       "      <td>1.8722</td>\n",
       "      <td>0.0</td>\n",
       "      <td>83.1040</td>\n",
       "      <td>2.460328e+06</td>\n",
       "      <td>-18.7223</td>\n",
       "      <td>0.0939</td>\n",
       "      <td>v1.3.0</td>\n",
       "      <td>16.5687</td>\n",
       "      <td>NaN</td>\n",
       "    </tr>\n",
       "    <tr>\n",
       "      <th>5</th>\n",
       "      <td>neidL2_20231022T014223.fits</td>\n",
       "      <td>TIC 441763252</td>\n",
       "      <td>Gaia DR2 1651960184296418944</td>\n",
       "      <td>17:22:18.0055</td>\n",
       "      <td>+72:38:43.342</td>\n",
       "      <td>2023-10-22 01:42:23</td>\n",
       "      <td>3299.840435</td>\n",
       "      <td>he</td>\n",
       "      <td>Sci</td>\n",
       "      <td>2023B-657754</td>\n",
       "      <td>...</td>\n",
       "      <td>-12.3578</td>\n",
       "      <td>1.4517</td>\n",
       "      <td>0.0</td>\n",
       "      <td>89.5183</td>\n",
       "      <td>2.460240e+06</td>\n",
       "      <td>-18.7610</td>\n",
       "      <td>0.0640</td>\n",
       "      <td>v1.3.0</td>\n",
       "      <td>12.6778</td>\n",
       "      <td>NaN</td>\n",
       "    </tr>\n",
       "    <tr>\n",
       "      <th>6</th>\n",
       "      <td>neidL2_20231019T032919.fits</td>\n",
       "      <td>TIC 441763252</td>\n",
       "      <td>Gaia DR2 1651960184296418944</td>\n",
       "      <td>17:22:18.0055</td>\n",
       "      <td>+72:38:43.342</td>\n",
       "      <td>2023-10-19 03:29:19</td>\n",
       "      <td>3263.704639</td>\n",
       "      <td>he</td>\n",
       "      <td>Sci</td>\n",
       "      <td>2023B-657754</td>\n",
       "      <td>...</td>\n",
       "      <td>-34.3085</td>\n",
       "      <td>1.6592</td>\n",
       "      <td>0.0</td>\n",
       "      <td>89.8595</td>\n",
       "      <td>2.460237e+06</td>\n",
       "      <td>-18.7308</td>\n",
       "      <td>0.0901</td>\n",
       "      <td>v1.3.0</td>\n",
       "      <td>11.3151</td>\n",
       "      <td>NaN</td>\n",
       "    </tr>\n",
       "    <tr>\n",
       "      <th>7</th>\n",
       "      <td>neidL2_20230907T035455.fits</td>\n",
       "      <td>TIC 441763252</td>\n",
       "      <td>Gaia DR2 1651960184296418944</td>\n",
       "      <td>17:22:18.0055</td>\n",
       "      <td>+72:38:43.342</td>\n",
       "      <td>2023-09-07 03:54:55</td>\n",
       "      <td>3299.830004</td>\n",
       "      <td>he</td>\n",
       "      <td>Sci</td>\n",
       "      <td>2023B-657754</td>\n",
       "      <td>...</td>\n",
       "      <td>-27.2194</td>\n",
       "      <td>1.3906</td>\n",
       "      <td>0.0</td>\n",
       "      <td>94.4263</td>\n",
       "      <td>2.460195e+06</td>\n",
       "      <td>-18.6603</td>\n",
       "      <td>0.0964</td>\n",
       "      <td>v1.3.0</td>\n",
       "      <td>14.6639</td>\n",
       "      <td>NaN</td>\n",
       "    </tr>\n",
       "  </tbody>\n",
       "</table>\n",
       "<p>8 rows × 21 columns</p>\n",
       "</div>"
      ],
      "text/plain": [
       "                      filename         object                       qobject  \\\n",
       "0  neidL2_20240517T043020.fits  TIC 441763252  Gaia DR2 1651960184296418944   \n",
       "1  neidL2_20240411T103612.fits  TIC 441763252  Gaia DR2 1651960184296418944   \n",
       "2  neidL2_20240201T100953.fits  TIC 441763252  Gaia DR2 1651960184296418944   \n",
       "3  neidL2_20240119T113407.fits  TIC 441763252  Gaia DR2 1651960184296418944   \n",
       "4  neidL2_20240118T112324.fits  TIC 441763252  Gaia DR2 1651960184296418944   \n",
       "5  neidL2_20231022T014223.fits  TIC 441763252  Gaia DR2 1651960184296418944   \n",
       "6  neidL2_20231019T032919.fits  TIC 441763252  Gaia DR2 1651960184296418944   \n",
       "7  neidL2_20230907T035455.fits  TIC 441763252  Gaia DR2 1651960184296418944   \n",
       "\n",
       "             qra           qdec              obsdate      exptime obsmode  \\\n",
       "0  17:22:18.0055  +72:38:43.342  2024-05-17 04:30:20  3299.825359      he   \n",
       "1  17:22:18.0055  +72:38:43.342  2024-04-11 10:36:12  3299.822945      he   \n",
       "2  17:22:18.0055  +72:38:43.342  2024-02-01 10:09:53  3299.817545      he   \n",
       "3  17:22:18.0055  +72:38:43.342  2024-01-19 11:34:07  3299.811149      he   \n",
       "4  17:22:18.0055  +72:38:43.342  2024-01-18 11:23:24  3299.801287      he   \n",
       "5  17:22:18.0055  +72:38:43.342  2023-10-22 01:42:23  3299.840435      he   \n",
       "6  17:22:18.0055  +72:38:43.342  2023-10-19 03:29:19  3263.704639      he   \n",
       "7  17:22:18.0055  +72:38:43.342  2023-09-07 03:54:55  3299.830004      he   \n",
       "\n",
       "  obstype       program  ...   sunagl  airmass  seeing  moonagl      ccfjdsum  \\\n",
       "0     Sci  2024A-754589  ... -24.0770   1.6756     0.0  93.6279  2.460448e+06   \n",
       "1     Sci  2024A-754589  ... -29.3961   1.3281     0.0  89.6943  2.460412e+06   \n",
       "2     Sci  2023B-657754  ... -53.0748   1.9462     0.0  83.4431  2.460342e+06   \n",
       "3     Sci  2023B-657754  ... -36.1949   1.8178     0.0  83.1113  2.460329e+06   \n",
       "4     Sci  2023B-657754  ... -38.4851   1.8722     0.0  83.1040  2.460328e+06   \n",
       "5     Sci  2023B-657754  ... -12.3578   1.4517     0.0  89.5183  2.460240e+06   \n",
       "6     Sci  2023B-657754  ... -34.3085   1.6592     0.0  89.8595  2.460237e+06   \n",
       "7     Sci  2023B-657754  ... -27.2194   1.3906     0.0  94.4263  2.460195e+06   \n",
       "\n",
       "   ccfrvmod   dvrms  swversion   extsnr  flaggedval  \n",
       "0  -18.7598  0.0683     v1.3.0  11.1498         NaN  \n",
       "1  -18.7584  0.0859     v1.3.0  13.5742         NaN  \n",
       "2  -18.7299  0.0955     v1.3.0  11.0570         NaN  \n",
       "3  -18.7624  0.0738     v1.3.0  10.5420         NaN  \n",
       "4  -18.7223  0.0939     v1.3.0  16.5687         NaN  \n",
       "5  -18.7610  0.0640     v1.3.0  12.6778         NaN  \n",
       "6  -18.7308  0.0901     v1.3.0  11.3151         NaN  \n",
       "7  -18.6603  0.0964     v1.3.0  14.6639         NaN  \n",
       "\n",
       "[8 rows x 21 columns]"
      ]
     },
     "execution_count": 41,
     "metadata": {},
     "output_type": "execute_result"
    }
   ],
   "source": [
    "# Pandas Reading\n",
    "import pandas as pd\n",
    "pandas.__version__\n",
    "RV = pd.read_csv(\"NEID_RVS_PRELIM (2).csv\")\n",
    "RV"
   ]
  },
  {
   "cell_type": "code",
   "execution_count": 17,
   "metadata": {
    "scrolled": true
   },
   "outputs": [
    {
     "data": {
      "text/plain": [
       "[<matplotlib.lines.Line2D at 0x122779430>]"
      ]
     },
     "execution_count": 17,
     "metadata": {},
     "output_type": "execute_result"
    },
    {
     "data": {
      "image/png": "[encoded data removed]",
      "text/plain": [
       "<Figure size 432x288 with 1 Axes>"
      ]
     },
     "metadata": {
      "needs_background": "light"
     },
     "output_type": "display_data"
    }
   ],
   "source": [
    "# Sine Plot\n",
    "import matplotlib\n",
    "from matplotlib import pyplot as plt\n",
    "import numpy as np\n",
    "# Setting X and Y Axes\n",
    "x = np.linspace(-np.pi*2, np.pi*2, 1000)\n",
    "y = np.sin(x)\n",
    "# Plotting\n",
    "plt.plot(x,y,label='y=sin(x)',color='blue')\n"
   ]
  },
  {
   "cell_type": "code",
   "execution_count": 19,
   "metadata": {},
   "outputs": [
    {
     "data": {
      "text/plain": [
       "<matplotlib.collections.PathCollection at 0x1226abc10>"
      ]
     },
     "execution_count": 19,
     "metadata": {},
     "output_type": "execute_result"
    },
    {
     "data": {
      "image/png": "[encoded data removed]",
      "text/plain": [
       "<Figure size 432x288 with 1 Axes>"
      ]
     },
     "metadata": {
      "needs_background": "light"
     },
     "output_type": "display_data"
    }
   ],
   "source": [
    "# Library Initialization\n",
    "import matplotlib\n",
    "from matplotlib import pyplot as plt\n",
    "import random\n",
    "\n",
    "# Randomizer\n",
    "randomtimes = random.randint(10,40)\n",
    "x=[]\n",
    "y=[]\n",
    "for i in range(randomtimes):\n",
    "    x.append(random.randint(0,10))\n",
    "    y.append(random.randint(0,10))\n",
    "\n",
    "# Scattering\n",
    "plt.scatter(x,y)    "
   ]
  },
  {
   "cell_type": "code",
   "execution_count": 20,
   "metadata": {},
   "outputs": [
    {
     "name": "stdout",
     "output_type": "stream",
     "text": [
      "[6, 2, 6, 1, 0, 9, 10, 2, 1, 2, 9, 8, 1, 6, 0, 6, 6, 5, 8, 3, 6, 5, 5, 8, 3]\n",
      "[10, 10, 2, 8, 8, 7, 3, 2, 9, 6, 6, 9, 10, 0, 3, 6, 1, 1, 9, 10, 8, 7, 0, 5, 7]\n"
     ]
    },
    {
     "data": {
      "text/plain": [
       "<matplotlib.collections.PathCollection at 0x1227d5340>"
      ]
     },
     "execution_count": 20,
     "metadata": {},
     "output_type": "execute_result"
    },
    {
     "data": {
      "image/png": "[encoded data removed]",
      "text/plain": [
       "<Figure size 432x288 with 1 Axes>"
      ]
     },
     "metadata": {
      "needs_background": "light"
     },
     "output_type": "display_data"
    }
   ],
   "source": [
    "# Library Initialization\n",
    "import matplotlib\n",
    "from matplotlib import pyplot as plt\n",
    "import random\n",
    "import numpy as np\n",
    "\n",
    "# Random Aspect\n",
    "randomtimes = random.randint(10,40)\n",
    "x3=[]\n",
    "y3=[]\n",
    "\n",
    "# Randomizer\n",
    "for i in range(randomtimes):\n",
    "    x3.append(random.randint(0,10))\n",
    "    y3.append(random.randint(0,10))\n",
    "print(x3)\n",
    "print(y3)\n",
    "\n",
    "# Sine and Cosine Functions \n",
    "x = np.linspace(-np.pi*2, np.pi*2, 1000)\n",
    "y1 = np.sin(x)\n",
    "y2 = np.cos(x)\n",
    "\n",
    "# Plotting\n",
    "plt.plot(x, y1)\n",
    "plt.plot(x,y2)\n",
    "plt.scatter(x3,y3)"
   ]
  },
  {
   "cell_type": "code",
   "execution_count": 29,
   "metadata": {},
   "outputs": [
    {
     "name": "stdout",
     "output_type": "stream",
     "text": [
      "Enter your Amplitude: 1\n",
      "Enter your Frequency: 1\n",
      "Enter your Phase Shift: 0\n",
      "Enter your vertical (y) shift: 0\n"
     ]
    },
    {
     "data": {
      "text/plain": [
       "Text(0.5, 1.0, 'Sin Wave')"
      ]
     },
     "execution_count": 29,
     "metadata": {},
     "output_type": "execute_result"
    },
    {
     "data": {
      "image/png": "[encoded data removed]",
      "text/plain": [
       "<Figure size 432x288 with 1 Axes>"
      ]
     },
     "metadata": {
      "needs_background": "light"
     },
     "output_type": "display_data"
    }
   ],
   "source": [
    "# Library Initialization\n",
    "import matplotlib.pyplot as plt\n",
    "import numpy as np\n",
    "\n",
    "# Generate x-axis length\n",
    "x = np.linspace(-2 * np.pi, 2 * np.pi, 1000)\n",
    "\n",
    "# Get user input and convert to float values\n",
    "amplitude = float(input(\"Enter your Amplitude: \"))\n",
    "frequency = float(input(\"Enter your Frequency: \"))\n",
    "phase = float(input(\"Enter your Phase Shift: \"))\n",
    "displacement = float(input(\"Enter your vertical (y) shift: \"))\n",
    "\n",
    "# Calculation Equation\n",
    "equation = amplitude * np.sin(frequency * x + phase) + displacement\n",
    "\n",
    "# Plotting\n",
    "plt.plot(x, equation, 'b')\n",
    "plt.xlabel('x')\n",
    "plt.ylabel('y')\n",
    "plt.title('Sin Wave')\n"
   ]
  },
  {
   "cell_type": "markdown",
   "metadata": {},
   "source": [
    "#BELOW IS EXPERIMENTATION WITH SIN FITS"
   ]
  },
  {
   "cell_type": "code",
   "execution_count": 1,
   "metadata": {
    "scrolled": true
   },
   "outputs": [
    {
     "name": "stdout",
     "output_type": "stream",
     "text": [
      "2.025935172350044\n",
      "1.4993111168834936\n",
      "-5.827157108981765\n",
      "1.0688178353365738\n",
      "[ 1.80674240e+00  2.84101686e+00  2.16472803e+00  2.32035325e+00\n",
      "  2.82622924e+00  2.11750583e+00  3.11610679e+00  3.62859264e+00\n",
      "  3.01723015e+00  3.26477890e+00  3.76773170e+00  2.89891746e+00\n",
      "  2.97143356e+00  2.62061724e+00  3.54988281e+00  3.24767485e+00\n",
      "  3.39962267e+00  2.51154060e+00  2.10210695e+00  2.81534458e+00\n",
      "  2.70894982e+00  2.68540755e+00  2.36959357e+00  1.86162032e+00\n",
      "  2.40976512e+00  1.81972292e+00  1.05803302e+00  2.05552931e+00\n",
      "  9.71864042e-01  1.05599761e+00  1.32854508e+00  1.39692616e+00\n",
      "  9.18202201e-01 -4.32777477e-01 -7.09503135e-01 -2.48003323e-01\n",
      " -1.00636887e+00 -1.13700214e+00 -5.74135878e-01 -1.30762263e+00\n",
      " -1.62462015e+00 -8.03826802e-01 -2.05795110e-01 -9.16247087e-01\n",
      " -3.64000706e-01  8.52679593e-02 -5.78085185e-01 -1.64728286e+00\n",
      "  2.39611789e-01 -7.84662466e-01 -6.25643870e-01 -8.31161385e-01\n",
      " -6.13630476e-01 -5.21847959e-01 -2.32062526e-01  1.94689428e-02\n",
      " -1.99633081e-01  1.99262095e-01  6.53383719e-01  3.78578122e-02\n",
      "  1.34422773e+00  3.43961986e-01  1.19701320e-03  2.10674896e+00\n",
      "  1.34500215e+00  7.78626529e-01  1.69074583e+00  2.69651254e+00\n",
      "  2.32687157e+00  2.07515812e+00  2.47478089e+00  2.67217344e+00\n",
      "  3.43386602e+00  3.75867976e+00  2.95824139e+00  2.47059650e+00\n",
      "  2.20212646e+00  3.05371276e+00  3.03459449e+00  2.57335020e+00\n",
      "  2.87650685e+00  3.28468021e+00  2.74318431e+00  1.91443164e+00\n",
      "  3.06505259e+00  2.74770181e+00  2.81104296e+00  1.88373816e+00\n",
      "  2.70916268e+00  1.96259832e+00  1.00889553e+00  1.97169496e+00\n",
      "  1.75102036e+00  9.25565507e-01  1.25105486e+00  1.39835538e+00\n",
      "  8.25909121e-01  9.65493848e-02  3.65322293e-01  4.36857569e-01\n",
      "  6.84221084e-01 -1.42175369e-01 -2.43678514e-01 -7.11328779e-01\n",
      " -6.80813026e-01 -8.87995138e-01 -2.62697874e-01 -1.03674459e+00\n",
      " -1.19809841e+00 -9.75007754e-01 -1.07458730e+00 -8.46105376e-01\n",
      " -1.04589319e+00 -6.25032115e-01 -3.20292079e-01 -1.73464930e+00\n",
      " -8.54846316e-01 -4.89206425e-01  1.95050026e-01  2.57283943e-01\n",
      " -1.17594749e+00 -4.75557638e-01 -7.71801373e-01  1.60915350e-01\n",
      " -5.55155835e-01  1.02901394e+00  7.98675399e-01  1.44662833e+00\n",
      "  1.22688335e+00  1.80275548e+00  2.18670350e+00  1.93604656e+00\n",
      "  1.57685742e+00  2.04818847e+00  7.23331053e-01  1.86214770e+00\n",
      "  2.25911088e+00  2.54582654e+00  3.19255275e+00  2.99610027e+00\n",
      "  2.49841654e+00  1.53640803e+00  3.18212400e+00  2.78921089e+00\n",
      "  2.85808685e+00  2.90922206e+00  3.31907553e+00  3.16670682e+00\n",
      "  3.05122037e+00  3.99204612e+00  3.12663587e+00  3.68912950e+00\n",
      "  2.85011714e+00  2.30718738e+00  2.24540188e+00  1.84002730e+00\n",
      "  1.94166385e+00  1.22562748e+00  1.33759884e+00  1.79827381e+00\n",
      "  1.39961386e+00  1.02356470e+00  7.85088119e-01  1.29105563e+00\n",
      "  7.40512873e-01  6.77492528e-01 -3.52017367e-01  4.77751786e-01\n",
      " -5.92808578e-01 -7.51796074e-01 -1.04057042e-01  1.49104036e-02\n",
      " -5.04513070e-01 -6.57601560e-01 -1.22674284e+00 -5.73114487e-01\n",
      " -1.06294413e+00 -6.81311736e-01 -1.87972981e+00 -4.94014351e-01\n",
      " -5.05974010e-01 -5.14629361e-01 -9.72523094e-01 -1.44502548e+00\n",
      " -4.45798377e-01 -7.00938936e-01  5.78131276e-02 -5.84511752e-01\n",
      "  9.97237255e-02 -6.27072953e-01  2.90382546e-01  1.27182536e+00\n",
      "  1.33942248e+00  7.97575674e-01  1.64513867e+00  3.01986588e-01\n",
      "  1.74467648e+00  1.54330219e+00  1.57196212e+00  2.81579144e+00]\n",
      "[ 1.96101066  2.12896753  2.28742842  2.43497397  2.57028257  2.69214224\n",
      "  2.79946145  2.89127893  2.96677224  3.02526519  3.06623382  3.08931119\n",
      "  3.09429058  3.08112739  3.04993952  3.00100633  2.93476613  2.85181224\n",
      "  2.7528877   2.6388786   2.51080613  2.36981748  2.2171755   2.05424744\n",
      "  1.88249269  1.70344968  1.51872214  1.32996471  1.13886814  0.94714411\n",
      "  0.75650994  0.56867318  0.38531631  0.20808172  0.03855691 -0.12173964\n",
      " -0.27137211 -0.40900022 -0.53339121 -0.64343089 -0.73813359 -0.81665105\n",
      " -0.87827998 -0.92246834 -0.94882034 -0.95709994 -0.94723297 -0.91930781\n",
      " -0.8735746  -0.81044298 -0.73047842 -0.6343972  -0.52305992 -0.39746386\n",
      " -0.25873402 -0.10811301  0.05305001  0.22331147  0.40114631  0.58496162\n",
      "  0.77311094  0.96390896  1.15564667  1.34660664  1.53507839  1.71937376\n",
      "  1.89784195  2.06888441  2.23096906  2.38264409  2.52255089  2.64943631\n",
      "  2.7621638   2.85972364  2.94124196  3.00598859  3.05338358  3.0830024\n",
      "  3.09457975  3.08801193  3.06335776  3.02083809  2.96083377  2.88388227\n",
      "  2.79067285  2.68204043  2.55895803  2.42252814  2.27397278  2.1146226\n",
      "  1.94590493  1.76933101  1.58648244  1.39899705  1.20855417  1.01685964\n",
      "  0.82563052  0.63657967  0.45140047  0.27175161  0.09924223 -0.06458245\n",
      " -0.21825503 -0.36039904 -0.48974125 -0.60512312 -0.70551116 -0.79000616\n",
      " -0.85785129 -0.90843884 -0.94131569 -0.95618736 -0.95292064 -0.93154478\n",
      " -0.89225126 -0.83539204 -0.76147641 -0.67116646 -0.5652711  -0.44473888\n",
      " -0.3106494  -0.16420376 -0.00671368  0.16041016  0.33567079  0.51749837\n",
      "  0.70426424  0.89429549  1.08588997  1.27733154  1.4669054   1.65291351\n",
      "  1.83368975  2.00761488  2.17313101  2.32875557  2.47309461  2.60485525\n",
      "  2.72285728  2.82604374  2.91349036  2.98441386  3.03817898  3.07430411\n",
      "  3.09246569  3.09250103  3.07440982  3.03835411  2.98465685  2.91379902\n",
      "  2.82641532  2.72328844  2.60534213  2.47363285  2.32934035  2.17375709\n",
      "  2.00827666  1.8343813   1.65362863  1.46763768  1.27807443  1.08663681\n",
      "  0.8950396   0.70499894  0.51821709  0.33636709  0.1610778  -0.00608068\n",
      " -0.16361106 -0.31010232 -0.44424231 -0.56482951 -0.67078378 -0.76115608\n",
      " -0.83513693 -0.89206365 -0.93142635 -0.95287245 -0.95620985 -0.94140866\n",
      " -0.90860144 -0.85808208 -0.79030306 -0.70587152 -0.60554371 -0.4902183\n",
      " -0.36092828 -0.21883173 -0.06520143  0.09858652  0.27106503  0.45068917\n",
      "  0.63585003  0.82488907  1.01611302  1.20780907  1.39826014  1.58576033\n",
      "  1.76863016  1.94523162]\n",
      "[-1.54268255e-01  7.12049328e-01 -1.22700393e-01 -1.14620718e-01\n",
      "  2.55946675e-01 -5.74636404e-01  3.16645341e-01  7.37313714e-01\n",
      "  5.04579045e-02  2.39513710e-01  7.01497876e-01 -1.90393726e-01\n",
      " -1.22857022e-01 -4.60510142e-01  4.99943292e-01  2.46668516e-01\n",
      "  4.64856541e-01 -3.40271641e-01 -6.50780750e-01  1.76465981e-01\n",
      "  1.98143686e-01  3.15590071e-01  1.52418075e-01 -1.92627125e-01\n",
      "  5.27272433e-01  1.16273243e-01 -4.60689122e-01  7.25564599e-01\n",
      " -1.67004099e-01  1.08853497e-01  5.72035137e-01  8.28252980e-01\n",
      "  5.32885887e-01 -6.40859193e-01 -7.48060044e-01 -1.26263687e-01\n",
      " -7.34996758e-01 -7.28001919e-01 -4.07446631e-02 -6.64191745e-01\n",
      " -8.86486560e-01  1.28242492e-02  6.72484867e-01  6.22125582e-03\n",
      "  5.84819639e-01  1.04236790e+00  3.69147785e-01 -7.27975046e-01\n",
      "  1.11318639e+00  2.57805124e-02  1.04834553e-01 -1.96764187e-01\n",
      " -9.05705552e-02 -1.24384094e-01  2.66714914e-02  1.27581955e-01\n",
      " -2.52683088e-01 -2.40493757e-02  2.52237409e-01 -5.47103810e-01\n",
      "  5.71116796e-01 -6.19946971e-01 -1.15444966e+00  7.60142323e-01\n",
      " -1.90076240e-01 -9.40747227e-01 -2.07096121e-01  6.27628134e-01\n",
      "  9.59025085e-02 -3.07485968e-01 -4.77700084e-02  2.27371329e-02\n",
      "  6.71702223e-01  8.98956122e-01  1.69994261e-02 -5.35392090e-01\n",
      " -8.51257121e-01 -2.92896353e-02 -5.99852583e-02 -5.14661729e-01\n",
      " -1.86850912e-01  2.63842117e-01 -2.17649465e-01 -9.69450632e-01\n",
      "  2.74379740e-01  6.56613779e-02  2.52084926e-01 -5.38789983e-01\n",
      "  4.35189901e-01 -1.52024287e-01 -9.37009400e-01  2.02363954e-01\n",
      "  1.64537919e-01 -4.73431542e-01  4.25006885e-02  3.81495732e-01\n",
      "  2.78602524e-04 -5.40030288e-01 -8.60781799e-02  1.65105959e-01\n",
      "  5.84978849e-01 -7.75929182e-02 -2.54234811e-02 -3.50929742e-01\n",
      " -1.91071778e-01 -2.82872017e-01  4.42813282e-01 -2.46738433e-01\n",
      " -3.40247121e-01 -6.65689143e-02 -1.33271606e-01  1.10081986e-01\n",
      " -9.29725519e-02  3.06512667e-01  5.71959184e-01 -8.99257260e-01\n",
      " -9.33699035e-02  1.81960034e-01  7.60321131e-01  7.02022818e-01\n",
      " -8.65298086e-01 -3.11353881e-01 -7.65087694e-01  5.05192859e-04\n",
      " -8.90826625e-01  5.11515561e-01  9.44111575e-02  5.52332844e-01\n",
      "  1.40993379e-01  5.25423939e-01  7.19798104e-01  2.83133050e-01\n",
      " -2.56832332e-01  4.05735886e-02 -1.44979995e+00 -4.66607868e-01\n",
      " -2.13983728e-01 -5.90287078e-02  4.69695471e-01  1.70056533e-01\n",
      " -4.15073815e-01 -1.44800583e+00  1.43945020e-01 -2.85093225e-01\n",
      " -2.34378837e-01 -1.83278971e-01  2.44665710e-01  1.28352705e-01\n",
      "  6.65635205e-02  1.07824709e+00  3.00220551e-01  9.65841057e-01\n",
      "  2.44775010e-01 -1.66445473e-01 -8.39384733e-02 -3.33729788e-01\n",
      " -6.66128105e-02 -6.08753820e-01 -3.16029786e-01  3.30636131e-01\n",
      "  1.21539433e-01 -6.30721175e-02 -1.09951477e-01  5.86056686e-01\n",
      "  2.22295779e-01  3.41125438e-01 -5.13095166e-01  4.83832461e-01\n",
      " -4.29197517e-01 -4.41693751e-01  3.40185269e-01  5.79739909e-01\n",
      "  1.66270711e-01  1.03554522e-01 -3.91605911e-01  3.18949165e-01\n",
      " -1.31517773e-01  2.71560717e-01 -9.23519962e-01  4.47394305e-01\n",
      "  4.02627434e-01  3.43452715e-01 -1.82220030e-01 -7.39153957e-01\n",
      "  1.59745338e-01 -2.10720631e-01  4.18741411e-01 -3.65680024e-01\n",
      "  1.64925154e-01 -7.25659470e-01  1.93175191e-02  8.21136184e-01\n",
      "  7.03572456e-01 -2.73133924e-02  6.29025643e-01 -9.05822482e-01\n",
      "  3.46416336e-01 -4.24581444e-02 -1.96668038e-01  8.70559822e-01]\n"
     ]
    },
    {
     "data": {
      "text/plain": [
       "[<matplotlib.lines.Line2D at 0x11f8302b0>]"
      ]
     },
     "execution_count": 1,
     "metadata": {},
     "output_type": "execute_result"
    },
    {
     "data": {
      "image/png": "[encoded data removed]",
      "text/plain": [
       "<Figure size 864x432 with 1 Axes>"
      ]
     },
     "metadata": {
      "needs_background": "light"
     },
     "output_type": "display_data"
    }
   ],
   "source": [
    "import numpy as np\n",
    "import matplotlib.pyplot as plt\n",
    "from scipy.optimize import curve_fit\n",
    "\n",
    "# Sine function\n",
    "def sin_function(t, amp, freq, phase, vert):\n",
    "    return amp * np.sin(freq * t + phase) + vert\n",
    "\n",
    "# Generate data with noise\n",
    "t = np.linspace(0, 4 * np.pi, 200)\n",
    "amp_true, freq_true, phase_true, vert_true = 2.0, 1.5, 0.5, 1.0\n",
    "y = sin_function(t, amp_true, freq_true, phase_true, vert_true) + np.random.normal(0, 0.5, t.size)\n",
    "\n",
    "# Fit the sine function to the data\n",
    "\n",
    "params, params_covariance = curve_fit(sin_function, t, y)\n",
    "amp_fit, freq_fit, phase_fit, vert_fit = params\n",
    "print(amp_fit)\n",
    "print(freq_fit)\n",
    "print(phase_fit)\n",
    "print(vert_fit)\n",
    "\n",
    "# Generate fitted data\n",
    "y_fit = sin_function(t, amp_fit, freq_fit, phase_fit, vert_fit)\n",
    "\n",
    "# Error Calculator:\n",
    "error = y - y_fit\n",
    "print(y)\n",
    "print(y_fit)\n",
    "print(error)\n",
    "\n",
    "# Plot data and fitted curve\n",
    "plt.figure(figsize=(12, 6))\n",
    "plt.plot(t, y, 'o', label='Data', color='red')\n",
    "plt.plot(t, y_fit, label='Fitted sine curve', color='blue', linewidth=2)\n",
    "plt.xlabel('t')\n",
    "plt.ylabel('y')\n",
    "plt.title('Data Fitting to a Sine Curve')\n",
    "plt.legend()\n",
    "\n",
    "# Plot Error\n",
    "plt.plot(t,error)"
   ]
  },
  {
   "cell_type": "code",
   "execution_count": 1,
   "metadata": {},
   "outputs": [
    {
     "name": "stdout",
     "output_type": "stream",
     "text": [
      "0.4251764542633219\n",
      "0.7710468863404731\n",
      "7.93072518138016\n",
      "1.0163867877662556\n",
      "[ 1.63427213  1.64674799  2.62776771  2.05670551  1.54165915  1.86060327\n",
      "  2.47541692  3.17230267  3.33049471  3.83260242  2.24794071  2.50854452\n",
      "  3.08604536  2.79445044  3.4826661   3.17220527  2.43410246  2.63640703\n",
      "  3.0712178   2.20983407  2.67523524  2.10437174  1.5147402   0.75487699\n",
      "  2.33461965  1.76630029  2.22142172  1.06681095  1.01178378  0.29908746\n",
      "  1.03730614 -0.04011668  0.40160432  0.18816008  0.43350626  0.2390765\n",
      " -0.36376845 -0.62876053 -1.19258105 -0.59102539 -0.6526801  -0.51679427\n",
      " -0.70507239 -1.38130623  0.41887216 -0.6388597  -0.7409907  -0.75702881\n",
      " -0.93070003 -0.55157471 -1.01644609 -1.62281957  0.48937007  0.06380959\n",
      " -0.20638199  0.33612825  0.03436744  1.12939695  0.57360116  0.67479401\n",
      "  0.32385948  0.92061339  1.30732461  1.66016325  0.75941353  0.97006735\n",
      "  2.03820758  2.03148431  2.28443137  1.67690351  2.99690649  3.13936267\n",
      "  2.12944484  3.48143556  3.55931563  3.80826276  3.63137257  2.47876184\n",
      "  3.91006489  3.32166332  3.11278492  2.58729223  2.25074515  3.94410141\n",
      "  2.1295851   2.31173995  3.06459949  2.70500784  1.95661782  1.37126668\n",
      "  1.76247101  0.73867958  0.93586461  0.84996448  0.90409992 -0.07664925\n",
      "  0.70842465  0.21491476  0.83275625 -0.19900912  0.04461753 -0.20380179\n",
      " -1.19965212 -0.50462473 -0.78742841 -0.35904921 -1.20568604 -1.74628431\n",
      " -1.8316808  -0.85971172 -1.0770996  -1.10719984 -0.33414956 -1.09524723\n",
      " -1.54409407 -1.13602724 -0.77510203 -0.31281447 -1.37442346 -0.74108943\n",
      "  0.2907824  -0.43213031  0.30047904  0.04779785  0.71273454 -0.14792611\n",
      "  1.08782587  1.78099611  1.37546262  0.48389719  2.51656725  1.30666948\n",
      "  2.11979959  2.06674152  2.54294272  2.43560546  2.8225507   2.08582328\n",
      "  2.69697066  2.48109982  2.54409601  2.5493727   2.77074927  3.05793986\n",
      "  2.52059139  2.85094936  3.66361305  3.33102726  2.43383933  3.36015768\n",
      "  2.22203343  2.5471549   2.99252595  0.79571536  2.48865527  1.86708531\n",
      "  2.83090244  1.27093225  1.52436194  0.72090705  1.3617892   1.2301255\n",
      "  1.03537858  0.8996184   0.64879477 -0.46601477 -0.39625098  0.24297817\n",
      "  0.24712463 -1.26488958 -1.08221019 -0.79390237 -0.90877147 -1.17060626\n",
      " -1.04280395 -0.81547288 -0.89520251 -1.70155756 -0.79322769 -0.664782\n",
      " -0.64737769 -0.8748215  -1.64036364 -0.78232346  0.36943681 -0.8973286\n",
      "  0.29125928 -0.54658985  0.07877184 -0.30330409 -0.17299385 -0.05407384\n",
      "  1.41428365  1.8153457   0.76508934  1.07849641  2.15673645  1.47540187\n",
      "  1.22787113  2.91895764]\n",
      "[1.4403118  1.43822287 1.43513408 1.43105277 1.42598862 1.41995361\n",
      " 1.41296206 1.40503053 1.39617784 1.38642495 1.375795   1.36431316\n",
      " 1.35200666 1.33890466 1.32503823 1.31044022 1.29514525 1.27918955\n",
      " 1.26261095 1.24544874 1.22774361 1.20953751 1.1908736  1.17179612\n",
      " 1.15235028 1.13258218 1.11253867 1.09226726 1.071816   1.05123336\n",
      " 1.03056812 1.00986927 0.98918586 0.96856693 0.94806135 0.92771771\n",
      " 0.90758423 0.88770865 0.86813805 0.84891884 0.83009657 0.81171585\n",
      " 0.79382024 0.77645216 0.75965279 0.74346193 0.72791796 0.71305773\n",
      " 0.69891646 0.68552766 0.67292308 0.66113257 0.6501841  0.64010362\n",
      " 0.63091501 0.62264005 0.61529836 0.60890734 0.60348214 0.59903561\n",
      " 0.5955783  0.5931184  0.59166174 0.59121178 0.59176957 0.5933338\n",
      " 0.59590076 0.59946437 0.60401618 0.6095454  0.61603892 0.62348136\n",
      " 0.63185507 0.64114021 0.65131476 0.66235462 0.67423361 0.68692359\n",
      " 0.70039446 0.71461431 0.72954943 0.74516441 0.76142225 0.77828442\n",
      " 0.79571094 0.81366051 0.83209059 0.85095749 0.8702165  0.88982196\n",
      " 0.90972741 0.92988566 0.95024895 0.97076899 0.99139716 1.01208456\n",
      " 1.03278216 1.0534409  1.07401181 1.09444613 1.11469544 1.13471173\n",
      " 1.15444757 1.17385617 1.19289154 1.21150855 1.22966308 1.24731209\n",
      " 1.26441376 1.28092755 1.29681432 1.31203641 1.32655775 1.34034392\n",
      " 1.35336223 1.36558183 1.37697377 1.38751103 1.39716865 1.40592372\n",
      " 1.41375551 1.42064545 1.4265772  1.4315367  1.43551221 1.4384943\n",
      " 1.4404759  1.44145232 1.44142123 1.44038272 1.43833924 1.43529564\n",
      " 1.43125913 1.42623928 1.42024799 1.41329946 1.40541015 1.39659878\n",
      " 1.38688621 1.37629548 1.36485169 1.35258195 1.33951536 1.32568288\n",
      " 1.3111173  1.29585314 1.27992659 1.26337539 1.24623876 1.22855734\n",
      " 1.21037303 1.19172892 1.17266922 1.15323909 1.13348459 1.11345254\n",
      " 1.09319043 1.07274627 1.05216853 1.03150597 1.01080759 0.99012242\n",
      " 0.96949951 0.94898773 0.9286357  0.90849166 0.88860336 0.86901793\n",
      " 0.8497818  0.83094057 0.81253888 0.79462035 0.77722746 0.76040143\n",
      " 0.74418215 0.72860805 0.71371605 0.69954145 0.68611784 0.67347705\n",
      " 0.66164902 0.65066181 0.64054144 0.63131191 0.6229951  0.61561071\n",
      " 0.60917625 0.60370698 0.59921584 0.59571349 0.59320824 0.59170601\n",
      " 0.59121037 0.59172249 0.59324116 0.59576278 0.59928138 0.60378861\n",
      " 0.60927379 0.61572391]\n",
      "[ 0.19396033  0.20852512  1.19263363  0.62565273  0.11567054  0.44064966\n",
      "  1.06245486  1.76727214  1.93431687  2.44617746  0.87214572  1.14423136\n",
      "  1.7340387   1.45554577  2.15762787  1.86176504  1.13895722  1.35721748\n",
      "  1.80860686  0.96438533  1.44749163  0.89483423  0.3238666  -0.41691913\n",
      "  1.18226936  0.6337181   1.10888305 -0.02545631 -0.06003222 -0.7521459\n",
      "  0.00673802 -1.04998595 -0.58758154 -0.78040685 -0.51455509 -0.6886412\n",
      " -1.27135268 -1.51646918 -2.0607191  -1.43994423 -1.48277667 -1.32851012\n",
      " -1.49889263 -2.15775839 -0.34078063 -1.38232162 -1.46890866 -1.47008654\n",
      " -1.62961649 -1.23710237 -1.68936916 -2.28395215 -0.16081404 -0.57629403\n",
      " -0.83729699 -0.2865118  -0.58093092  0.52048961 -0.02988098  0.0757584\n",
      " -0.27171883  0.32749499  0.71566287  1.06895147  0.16764396  0.37673355\n",
      "  1.44230682  1.43201994  1.68041519  1.06735811  2.38086756  2.51588131\n",
      "  1.49758977  2.84029536  2.90800087  3.14590814  2.95713895  1.79183826\n",
      "  3.20967043  2.60704901  2.3832355   1.84212782  1.4893229   3.165817\n",
      "  1.33387416  1.49807944  2.2325089   1.85405035  1.08640132  0.48144472\n",
      "  0.8527436  -0.19120609 -0.01438434 -0.12080452 -0.08729724 -1.08873381\n",
      " -0.32435751 -0.83852614 -0.24125556 -1.29345525 -1.07007791 -1.33851352\n",
      " -2.3540997  -1.67848091 -1.98031995 -1.57055776 -2.43534912 -2.9935964\n",
      " -3.09609456 -2.14063927 -2.37391392 -2.41923625 -1.66070731 -2.43559115\n",
      " -2.8974563  -2.50160908 -2.15207579 -1.7003255  -2.7715921  -2.14701315\n",
      " -1.12297311 -1.85277575 -1.12609816 -1.38373886 -0.72277767 -1.58642042\n",
      " -0.35265004  0.33954379 -0.06595861 -0.95648553  1.07822801 -0.12862616\n",
      "  0.68854046  0.64050223  1.12269473  1.02230601  1.41714055  0.6892245\n",
      "  1.31008444  1.10480433  1.17924433  1.19679074  1.43123391  1.73225698\n",
      "  1.20947409  1.55509622  2.38368646  2.06765188  1.18760056  2.13160034\n",
      "  1.0116604   1.35542598  1.81985673 -0.35752373  1.35517068  0.75363277\n",
      "  1.73771201  0.19818598  0.47219341 -0.31059892  0.35098161  0.24000308\n",
      "  0.06587907 -0.04936933 -0.27984094 -1.37450644 -1.28485434 -0.62603977\n",
      " -0.60265717 -2.09583015 -1.89474907 -1.58852272 -1.68599894 -1.9310077\n",
      " -1.7869861  -1.54408093 -1.60891856 -2.40109901 -1.47934553 -1.33825905\n",
      " -1.30902672 -1.52548331 -2.28090508 -1.41363538 -0.25355829 -1.51293931\n",
      " -0.31791697 -1.15029683 -0.520444   -0.89901758 -0.76620208 -0.64577985\n",
      "  0.82307328  1.22362321  0.17184818  0.48273363  1.55745507  0.87161326\n",
      "  0.61859734  2.30323373]\n"
     ]
    },
    {
     "data": {
      "text/plain": [
       "[<matplotlib.lines.Line2D at 0x128a72220>]"
      ]
     },
     "execution_count": 1,
     "metadata": {},
     "output_type": "execute_result"
    },
    {
     "data": {
      "image/png": "[encoded data removed]",
      "text/plain": [
       "<Figure size 432x288 with 2 Axes>"
      ]
     },
     "metadata": {
      "needs_background": "light"
     },
     "output_type": "display_data"
    }
   ],
   "source": [
    "import numpy as np\n",
    "import matplotlib.pyplot as plt\n",
    "from scipy.optimize import curve_fit\n",
    "\n",
    "# Sine function\n",
    "def sin_function(t, amp, freq, phase, vert):\n",
    "    return amp * np.sin(freq * t + phase) + vert\n",
    "\n",
    "# Generate synthetic data with more noise\n",
    "t = np.linspace(0, 4 * np.pi, 200)\n",
    "amp_true, freq_true, phase_true, vert_true = 2.0, 1.5, 0.5, 1.0\n",
    "y = sin_function(t, amp_true, freq_true, phase_true, vert_true) + np.random.normal(0, 0.5, t.size)\n",
    "\n",
    "# Fit the sine function to the data\n",
    "\n",
    "params, params_covariance = curve_fit(sin_function, t, y)\n",
    "amp_fit, freq_fit, phase_fit, vert_fit = params\n",
    "print(amp_fit)\n",
    "print(freq_fit)\n",
    "print(phase_fit)\n",
    "print(vert_fit)\n",
    "\n",
    "# Generate fitted data\n",
    "y_fit = sin_function(t, amp_fit, freq_fit, phase_fit, vert_fit)\n",
    "\n",
    "# Error Calculator:\n",
    "error = y - y_fit\n",
    "print(y)\n",
    "print(y_fit)\n",
    "print(error)\n",
    "\n",
    "# Plot data and fitted curve\n",
    "fig, axs = plt.subplots(2)\n",
    "\n",
    "axs[0].plot(t, y, 'o', label='Data', color='red')\n",
    "axs[0].plot(t, y_fit, label='Fitted sine curve', color='blue', linewidth=2)\n",
    "\n",
    "\n",
    "axs[1].plot(t,error)"
   ]
  },
  {
   "cell_type": "code",
   "execution_count": null,
   "metadata": {},
   "outputs": [],
   "source": []
  },
  {
   "cell_type": "code",
   "execution_count": null,
   "metadata": {},
   "outputs": [],
   "source": []
  }
 ],
 "metadata": {
  "kernelspec": {
   "display_name": "Python 3 (ipykernel)",
   "language": "python",
   "name": "python3"
  },
  "language_info": {
   "codemirror_mode": {
    "name": "ipython",
    "version": 3
   },
   "file_extension": ".py",
   "mimetype": "text/x-python",
   "name": "python",
   "nbconvert_exporter": "python",
   "pygments_lexer": "ipython3",
   "version": "3.9.10"
  }
 },
 "nbformat": 4,
 "nbformat_minor": 4
}
